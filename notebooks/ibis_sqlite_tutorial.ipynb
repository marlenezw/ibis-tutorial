{
 "cells": [
  {
   "cell_type": "markdown",
   "id": "77562019",
   "metadata": {},
   "source": [
    "# An Introduction to Ibis for Python Programmers\n",
    "## A More Pythonic Way To Work With Databases (Marlene Mhangami)"
   ]
  },
  {
   "cell_type": "markdown",
   "id": "d7cfd3d7",
   "metadata": {},
   "source": [
    "![](../data/elephant_with_bird.png)"
   ]
  },
  {
   "cell_type": "markdown",
   "id": "e5169877",
   "metadata": {},
   "source": [
    "A few weeks ago I was working on setting up a relational database to explore records from DataSF’s [Civic Art Collection](https://data.sfgov.org/Culture-and-Recreation/Civic-Art-Collection/r7bn-7v9c). Whenever I attend a tech conference I try to spend a day or two in the city to check out it’s cultural scene, so this seemed like useful information! I decided to use MySQL as my database engine. Coming from a Pandas background I was surprised by how unproductive and restricted I felt writing raw SQL queries. I also spent a significant amount of time resolving errors in queries that worked with one flavor of SQL but failed with MySQL. Throughout the process I kept thinking to myself if only there was a more Pythonic way!!! A few weeks later I was introduced to Ibis. \n",
    "\n",
    "Ibis provides a more Pythonic way of interacting with multiple database engines. \n",
    "In my own adventures I’ve always encountered Ibis’s (the bird versions) perched on top of elephants. If you’ve never seen an elephant in real life I can confirm that they are huge, complex creatures. Here’s a picture of me standing next to some for scale ;) \n"
   ]
  },
  {
   "cell_type": "markdown",
   "id": "77a9e8c0",
   "metadata": {},
   "source": [
    "![](../data/elephant_with_me.png)The image of a small bird sitting on top of a large elephant serves as a metaphor for how ibis provides a less complex, more performant way for users to interact with multiple big data engines. In fact the bigger and more complex your data the more of an argument there is to use Ibis. SQL can be quite difficult to maintain when your queries are very complex. With ibis there is no need to completely rewrite your code whether you’re scaling up or down. You can switch out your back-end if you need to and keep working in the same context but with a more powerful engine. This means your workflow is streamlined, less error prone and your cognitive load is reduced. "
   ]
  },
  {
   "cell_type": "markdown",
   "id": "70c5b808",
   "metadata": {},
   "source": [
    "At the moment, Ibis supports quite a few backends including: \n",
    "\n",
    " - Traditional DBMSs: PostgreSQL, MySQL, SQLite\n",
    " - Analytical DBMSs: OmniSciDB, ClickHouse, Datafusion\n",
    " - Distributed DBMSs: Impala, PySpark, BigQuery\n",
    " - In memory analytics: pandas, Dask\n",
    "\n",
    "Whether you’re wanting to interact with SQL databases or wanting to use distributed DBMSs, Ibis lets you do this in Python. In this post I’ll be using an SQLite backend but if you’d like to try any of the others checkout the [ibis backends](https://ibis-project.org/backends/) page for examples. Ibis currently supports over 12 backends, some of which compile to SQL and some of which are directly executed. \n",
    "![](../data/diagram.png)"
   ]
  },
  {
   "cell_type": "markdown",
   "id": "80aa4f49",
   "metadata": {},
   "source": [
    "For Python programmers Ibis offers a way to write SQL in Python that allows for unit-testing, composability, and abstraction over specific query engines (e.g.BigQuery)! You can carry out joins, filters and other operations on your data in a familiar, Pandas-like syntax. Overall, using Ibis simplifies your workflows, makes you more productive, and keeps your code readable."
   ]
  },
  {
   "cell_type": "markdown",
   "id": "688facff",
   "metadata": {},
   "source": [
    "Let's start by getting ibis and sqlite installed on your system. In the next several cells, you will notice that the first character is an exclamation point: ***!*** This tells Jupyter that we're running a shell (terminal) command instead of python code in the notebook"
   ]
  },
  {
   "cell_type": "markdown",
   "id": "53671c8b",
   "metadata": {},
   "source": [
    "## Install SQLite"
   ]
  },
  {
   "cell_type": "code",
   "execution_count": null,
   "id": "196f4101",
   "metadata": {},
   "outputs": [],
   "source": [
    "!conda install -y -c anaconda sqlite "
   ]
  },
  {
   "cell_type": "markdown",
   "id": "891399d2",
   "metadata": {},
   "source": [
    "## Install ibis"
   ]
  },
  {
   "cell_type": "code",
   "execution_count": null,
   "id": "07878a0c",
   "metadata": {},
   "outputs": [],
   "source": [
    "!conda install -y -c conda-forge ibis-framework     "
   ]
  },
  {
   "cell_type": "markdown",
   "id": "599ba27d",
   "metadata": {},
   "source": [
    "## Get the data\n",
    "We're using the `Civic Art Collection` database, which can be downloaded here: https://data.sfgov.org/Culture-and-Recreation/Civic-Art-Collection/r7bn-7v9c using the `Export` service in the top right corner. Please select `CSV` for your export format. When you've completed the download, store the downloaded file in the `data` directory in the folder one level above.\n",
    "\n",
    "When you list the `../data` folder you should see: \n",
    ">`Civic_Art_Collection.csv`\n",
    "<br>"
   ]
  },
  {
   "cell_type": "markdown",
   "id": "dccbb067",
   "metadata": {},
   "source": [
    "## Create the SQLite database\n",
    "If you’d like to follow along with me, the next thing we’ll do is create a database and a table containing data about art around San Francisco from DataSF. The data is open source so you can  download the csv file directly from the site. Ibis doesn’t support loading csv files into an SQL table yet, so we’ll follow these commands to do so in the command line with SQLite"
   ]
  },
  {
   "cell_type": "markdown",
   "id": "51e4e028",
   "metadata": {},
   "source": [
    "### Let's first create variables for all of the things we're about to go do"
   ]
  },
  {
   "cell_type": "code",
   "execution_count": null,
   "id": "569dea08",
   "metadata": {},
   "outputs": [],
   "source": [
    "import os\n",
    "\n",
    "path_separator=os.path.sep # get the path separator (forward or backward slash) for this operating system\n",
    "path=\"..\"+path_separator+\"data\" #where did we store the data\n",
    "file=\"Civic_Art_Collection.csv\" #what's the name of the file we're importing\n",
    "collection_name=\"civicArt.db\" # what are we going to call the database\n",
    "table_name=\"civicArtTable\" # what are we going to call the table into which we are importing the file\n",
    "db = None # connection to the database"
   ]
  },
  {
   "cell_type": "markdown",
   "id": "269a1e3a",
   "metadata": {},
   "source": [
    "### Create the SQL Collection (database)\n",
    "SQLite wants a file with the name of the collection as the db. So, we'll use the shell `touch` command to create it. "
   ]
  },
  {
   "cell_type": "code",
   "execution_count": null,
   "id": "a77723a8",
   "metadata": {},
   "outputs": [],
   "source": [
    "!touch \"{collection_name}\""
   ]
  },
  {
   "cell_type": "markdown",
   "id": "70e81bc4",
   "metadata": {
    "tags": []
   },
   "source": [
    "### Create the table schema\n",
    "We will use pandas to help use create the schema and, later on, load the data into SQLite"
   ]
  },
  {
   "cell_type": "code",
   "execution_count": null,
   "id": "9ec99698",
   "metadata": {},
   "outputs": [],
   "source": [
    "import pandas as pd\n",
    "type_dic = {\"object\": \"String\", \"float64\": \"Float64\", \"int64\": \"Int64\"}\n",
    "art_df = pd.read_csv(path+path_separator+file).fillna(0.00)\n",
    "col_names, col_types = [], []\n",
    "\n",
    "# replace spaces in the column names with underscores\n",
    "# use a dictionary to replace the column types with ibis types. \n",
    "# (We'd have to do the same thing if we were auto-coding SQL)\n",
    "\n",
    "for e in zip(art_df.columns, art_df.dtypes):\n",
    "    col_names.append('_'.join(e[0].lower().split(' ')))\n",
    "    col_types.append(type_dic[e[1].__str__()])\n",
    "\n",
    "art_df.columns = col_names\n"
   ]
  },
  {
   "cell_type": "markdown",
   "id": "76a8f748",
   "metadata": {},
   "source": [
    "### Connecting to the database\n",
    "\n",
    "One of the advantages of ibis is that it lets you work with tools you’re most comfortable with. I enjoy writing Python code in IPython, but you can use a jupyter notebook or any Python shell you’d like. Whatever you choose we'll use the same commands to connect to the civicArt database we created earlier. "
   ]
  },
  {
   "cell_type": "code",
   "execution_count": null,
   "id": "f93eaa9d-e411-4631-a752-f586a3a8d028",
   "metadata": {},
   "outputs": [],
   "source": [
    "import ibis\n",
    "ibis.options.interactive = True\n",
    "db = ibis.sqlite.connect(collection_name)"
   ]
  },
  {
   "cell_type": "markdown",
   "id": "4e6a62e8",
   "metadata": {},
   "source": [
    "### Create the table\n",
    "This defines where the data will go and it's 'shape' - that is, the characteristics of each column of data"
   ]
  },
  {
   "cell_type": "code",
   "execution_count": null,
   "id": "096b1b1f-cddc-4a56-a27d-626177e492f2",
   "metadata": {},
   "outputs": [],
   "source": [
    "schema = ibis.Schema(names=col_names, types=col_types)\n",
    "# if you're going through this a second time, \n",
    "# this will prevent an error trying to recreate the table definition\n",
    "if not table_name in db.list_tables():\n",
    "    db.create_table(table_name, schema=schema)"
   ]
  },
  {
   "cell_type": "markdown",
   "id": "76a60514",
   "metadata": {},
   "source": [
    "### import the data into the table"
   ]
  },
  {
   "cell_type": "code",
   "execution_count": null,
   "id": "cb6685d2",
   "metadata": {},
   "outputs": [],
   "source": [
    "db.load_data(table_name, art_df, if_exists='replace')"
   ]
  },
  {
   "cell_type": "markdown",
   "id": "95e0668d",
   "metadata": {},
   "source": [
    "Something to note here is that pandas (read_sql)  loads data into memory and performs the computations itself. Ibis won't load the data or perform any computation. Instead it leaves the data in the database defined by the connection, and will ask the backend to perform the computations there. This means you can execute at the speed of your backend, not your local computer. A good way to think about this is to go back to our elephant metaphor. If you need some heavy lifting done, it’s probably a good idea to let an elephant do it as compared to an ibis. Our elegant ibis can pass on the heavier work to the larger database and watch as the work is done much faster than it could have done itself. \n",
    "![](../data/elephant_resting.png)\n",
    "If everything went well you should be connected to the database. We’ll take a look at our data next! \n",
    "### list the tables"
   ]
  },
  {
   "cell_type": "code",
   "execution_count": null,
   "id": "eb099eb2",
   "metadata": {},
   "outputs": [],
   "source": [
    "sql_tables = db.list_tables()\n",
    "print(sql_tables)"
   ]
  },
  {
   "cell_type": "markdown",
   "id": "20659433",
   "metadata": {},
   "source": [
    "#### list the columns in the table"
   ]
  },
  {
   "cell_type": "code",
   "execution_count": null,
   "id": "032ca0a1",
   "metadata": {},
   "outputs": [],
   "source": [
    "# since the results of the preceding command is a list \n",
    "# and we may get more than one table in the list\n",
    "# print each table name and the columns for that table\n",
    "for each in sql_tables:\n",
    "    print(f\"columns in {each}:\")\n",
    "    print(f\"{db.table(each).columns}\")"
   ]
  },
  {
   "cell_type": "markdown",
   "id": "b6a87a4e",
   "metadata": {},
   "source": [
    "## Wrangling Data With Ibis\n",
    "\n",
    "Let's now use Ibis to carry out some common SQL commands on our dataset and find out some useful information about art in San Francisco in the process. \n",
    "### Querying \n",
    "\n",
    "Anything you can write in a SELECT statement you can write in Ibis. Let's test this out!\n",
    "I’ll use the following code to find out which artists have art currently displayed in the city and what the title of their pieces are. \n",
    "\n",
    "### Selecting columns from a table "
   ]
  },
  {
   "cell_type": "code",
   "execution_count": null,
   "id": "774ae64b",
   "metadata": {},
   "outputs": [],
   "source": [
    "art = db.table(sql_tables[0])\n",
    "sql_results = art[[\"artist\", \"display_title\"]]\n",
    "sql_results"
   ]
  },
  {
   "cell_type": "markdown",
   "id": "fbd4caa8",
   "metadata": {},
   "source": [
    "Great! If you’ve used Pandas before this should feel similar to getting columns from a Pandas Dataframe, but remember the database is doing all the work for us, so this is more efficient! \n",
    "### Distinct and Count \n",
    "We can already see the length of the list, but just to show you the count method, we confirm that the number of artists that have one or more pieces on display in San Francisco is 386!"
   ]
  },
  {
   "cell_type": "code",
   "execution_count": null,
   "id": "0a473dce",
   "metadata": {},
   "outputs": [],
   "source": [
    "distinct_artists = art[\"artist\"].distinct()\n",
    "distinct_artists.count()"
   ]
  },
  {
   "cell_type": "markdown",
   "id": "00f3c434",
   "metadata": {},
   "source": [
    "### Filtering Data\n",
    "\n",
    "Next let's pick an artist and figure out where exactly all their art is located. Adriane Colburns’ display title, `Geological Ghost` caught my eye so let's choose them! \n",
    "\n",
    "I use the following commands to do this"
   ]
  },
  {
   "cell_type": "code",
   "execution_count": null,
   "id": "54f79c92",
   "metadata": {},
   "outputs": [],
   "source": [
    "adrianes_art = art.filter(art.artist == 'Colburn, Adriane')\n",
    "adrianes_art[\"display_title\", \"street_address_or_intersection\"]"
   ]
  },
  {
   "cell_type": "markdown",
   "id": "deb33f79",
   "metadata": {},
   "source": [
    "We could do the same thing using a pandas approach to equality selection:"
   ]
  },
  {
   "cell_type": "code",
   "execution_count": null,
   "id": "0641d05b",
   "metadata": {},
   "outputs": [],
   "source": [
    "adrianes_art = art[art.artist == 'Colburn, Adriane']\n",
    "adrianes_art[\"display_title\", \"street_address_or_intersection\"]"
   ]
  },
  {
   "cell_type": "markdown",
   "id": "0b4c3052",
   "metadata": {},
   "source": [
    "So it turns out Adriane has two pieces on display, one at `4 Guy Place` and the other at `Dagget Street & 16th Street`. This is great, we already have some places we can add to our tourist itinerary!  \n",
    "\n",
    "### Groupby\n",
    "\n",
    "I don’t usually stay more than one or two days in a city after a conference, so it might be nice to know which locations have the most art on display. To figure this out we’ll use the following `groupby` expressions to get the information we need. \n",
    "We use `groupy` and `sort_by` to get the 10 locations in San Francisco with the most art! "
   ]
  },
  {
   "cell_type": "code",
   "execution_count": null,
   "id": "3d09cd86",
   "metadata": {},
   "outputs": [],
   "source": [
    "most_art = (\n",
    "    art\n",
    "    .filter(art.street_address_or_intersection !=\"0.0\") # remove outliers\n",
    "    .groupby(\"street_address_or_intersection\")          # aggregate by street\n",
    "    .count('display_title')\n",
    "    .sort_by(ibis.desc('display_title'))                # sort by count in a descending order\n",
    "    .limit(10)                                          # take top 10\n",
    ")\n",
    "most_art\n"
   ]
  },
  {
   "cell_type": "markdown",
   "id": "4b126b31",
   "metadata": {},
   "source": [
    "#### Great, the first stop would be 1001 Potrero Avenue that has 59 titles on display!! \n",
    "Out of curiosity, I searched 1001 Potrero Avenue to learn more about what I expected would be an art gallery. Surprisingly it turned out to be the Zuckerberg San Francisco General Hospital. They’ve apparently invested a lot in art and have an incredible collection. \n",
    "The thing with data is that it can surprise you! The next best option is Coit tower which has its address at 1 Telegraph Hill Blvd. It is not a hospital and looks like a great place to explore! \n",
    "![](../data/coit_tower.png)\n",
    "The [Coit Tower Murals](https://www.argcs.com/portfolio-item/coit-tower-murals/) were painted by Maxine Albro, Victor Arnautoff, Jane Berlandina, Ray Bertrand, Ray Boynton, Ralph Chesse, Rinaldo Cuneo, Ben Cunningham, Mallette Dean, Parker Hall, Edith Hamlin, George Harris, William Hesthal, John Langley Howard, Lucien Labaudt, Gordon Langdon, Jose Moya Del Pino, Otis Oldfield, Frederick Olmsted Jr., Ralph Stackpole, Suzanne Scheuer, Edward Terada, Frede Vidar, Clifford Wight and Bernard Zakheim."
   ]
  },
  {
   "cell_type": "markdown",
   "id": "b886c683",
   "metadata": {},
   "source": [
    "## Joins \n",
    "\n",
    "Excellent. At this point we know that the next time we’re in San Francisco for a tech conference we have some great options to check out. I only found out after writing my code so let's imagine 1001 Potrero Avenue is not a hospital and use it as our first choice! Now we know where to go. What's next?\n",
    "\n",
    "Well, oftentimes art galleries are filled with hipsters that will likely ask you about the artists on display. The good thing is that we can prepare for this in advance! Lets use an inner join to help us find which artists have the most art showing so we can look them up and feel cool by having a good response ;) \n",
    "\n",
    "### Use inner_join to find the most popular artists\n"
   ]
  },
  {
   "cell_type": "code",
   "execution_count": null,
   "id": "e4717217",
   "metadata": {},
   "outputs": [],
   "source": [
    "artist_location = art[\"street_address_or_intersection\", \"artist\"]\n",
    "\n",
    "artists_at_portrero = artist_location.filter(\n",
    "    artist_location[\"street_address_or_intersection\"] == \"1001 Portrero Avenue\").distinct()"
   ]
  },
  {
   "cell_type": "markdown",
   "id": "fa233275",
   "metadata": {},
   "source": [
    "ibis version 2.1.1 sometimes encounters an issue with views note being materialized and, when materialize, not resolving column names on a join operation. So the following code fragment is just for version 2.1.1 and uses the ```mutate()``` function (first line) to change one of the column headers and ```materialize()``` to ensure that the created view can be displayed. "
   ]
  },
  {
   "cell_type": "code",
   "execution_count": null,
   "id": "070611e0",
   "metadata": {},
   "outputs": [],
   "source": [
    "artist_number_of_displays = art.mutate(c_artist=art['artist']).groupby(\"c_artist\").count(\"display_title\")\n",
    "most_popular_artist = artists_at_portrero.inner_join(\n",
    "    artist_number_of_displays,\n",
    "    predicates=artists_at_portrero[\"artist\"] == artist_number_of_displays[\"c_artist\"]\n",
    "    ).materialize()"
   ]
  },
  {
   "cell_type": "markdown",
   "id": "a7f3d86c",
   "metadata": {},
   "source": [
    "If you're on ibis version 3.0 or later, use the following code instead to execute the join operation"
   ]
  },
  {
   "cell_type": "code",
   "execution_count": null,
   "id": "4d6c4dae",
   "metadata": {},
   "outputs": [],
   "source": [
    "#artist_number_of_displays = art.groupby(\"artist\").count(\"display_title\")\n",
    "\n",
    "#most_popular_artist = artists_at_portrero.inner_join(\n",
    "    #artist_number_of_displays,\n",
    "    #predicates=artists_at_portrero[\"artist\"] == artist_number_of_displays[\"artist\"]).materialize()"
   ]
  },
  {
   "cell_type": "code",
   "execution_count": null,
   "id": "56ea961e",
   "metadata": {},
   "outputs": [],
   "source": [
    "\n",
    "most_popular_artist = most_popular_artist[\"artist\", \"display_title\"]\n",
    "\n",
    "most_popular_artist.sort_by(ibis.desc(most_popular_artist.display_title))\n"
   ]
  },
  {
   "cell_type": "markdown",
   "id": "f91319ac",
   "metadata": {},
   "source": [
    "Fantastic! We now know Mary (McChesney) Fuller has the most art on display at 1001 Potrero Avenue and can search online to find out more! In my opinion we’re as ready as we’ll ever be to explore the art scene in SF! \n",
    "\n",
    "We learned a lot of information in a relatively short amount of time. If you’re used to writing Python code this probably feels more efficient than writing out raw SQL strings. It also means if you started your workflow in IPython or a Jupyter Notebook you can stay there. This should feel smoother and hopefully lead to increased productivity. Using tools that help you be more efficient means you have more time for creativity and exploration in your work! I wish this for you! Thanks for reading and hopefully I’ll bump into you watching elephants or in an art gallery somewhere around the world! \n",
    "\n"
   ]
  }
 ],
 "metadata": {
  "kernelspec": {
   "display_name": "Python 3 (ipykernel)",
   "language": "python",
   "name": "python3"
  },
  "language_info": {
   "codemirror_mode": {
    "name": "ipython",
    "version": 3
   },
   "file_extension": ".py",
   "mimetype": "text/x-python",
   "name": "python",
   "nbconvert_exporter": "python",
   "pygments_lexer": "ipython3",
   "version": "3.9.7"
  }
 },
 "nbformat": 4,
 "nbformat_minor": 5
}
