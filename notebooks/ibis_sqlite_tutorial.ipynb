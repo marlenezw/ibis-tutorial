{
 "cells": [
  {
   "cell_type": "markdown",
   "id": "80aa4f49",
   "metadata": {},
   "source": [
    "For Python programmers Ibis offers a way to write SQL in Python that allows for unit-testing, composability, and abstraction over specific query engines (e.g.BigQuery)! You can carry out joins, filters and other operations on your data in a familiar, Pandas-like syntax. Overall, using Ibis simplifies your workflows, makes you more productive, and keeps your code readable."
   ]
  },
  {
   "cell_type": "markdown",
   "id": "688facff",
   "metadata": {},
   "source": [
    "Let's start by getting ibis and sqlite installed on your system. In the next several cells, you will notice that the first character is an exclamation point: ***!*** This tells Jupyter that we're running a shell (terminal) command instead of python code in the notebook"
   ]
  },
  {
   "cell_type": "markdown",
   "id": "53671c8b",
   "metadata": {},
   "source": [
    "## Install SQLite"
   ]
  },
  {
   "cell_type": "code",
   "execution_count": 1,
   "id": "196f4101",
   "metadata": {},
   "outputs": [
    {
     "name": "stdout",
     "output_type": "stream",
     "text": [
      "Collecting package metadata (current_repodata.json): done\n",
      "Solving environment: done\n",
      "\n",
      "# All requested packages already installed.\n",
      "\n"
     ]
    }
   ],
   "source": [
    "!conda install -c anaconda sqlite "
   ]
  },
  {
   "cell_type": "markdown",
   "id": "891399d2",
   "metadata": {},
   "source": [
    "## Install ibis"
   ]
  },
  {
   "cell_type": "code",
   "execution_count": 2,
   "id": "07878a0c",
   "metadata": {},
   "outputs": [
    {
     "name": "stdout",
     "output_type": "stream",
     "text": [
      "Collecting package metadata (current_repodata.json): done\n",
      "Solving environment: done\n",
      "\n",
      "# All requested packages already installed.\n",
      "\n"
     ]
    }
   ],
   "source": [
    "!conda install -c conda-forge ibis-framework     "
   ]
  },
  {
   "cell_type": "markdown",
   "id": "599ba27d",
   "metadata": {},
   "source": [
    "## Get the data\n",
    "We're using the `Civic Art Collection` database, which can be downloaded here: https://data.sfgov.org/Culture-and-Recreation/Civic-Art-Collection/r7bn-7v9c using the `Export` service in the top right corner. Please select `CSV` for your export format. When you've completed the download, store the downloaded file in the `data` directory in the folder one level above.\n",
    "\n",
    "When you list the `../data` folder you should see: \n",
    ">`Civic_Art_Collection.csv`\n",
    "<br>"
   ]
  },
  {
   "cell_type": "markdown",
   "id": "dccbb067",
   "metadata": {},
   "source": [
    "## Create the SQLite database"
   ]
  },
  {
   "cell_type": "markdown",
   "id": "51e4e028",
   "metadata": {},
   "source": [
    "### Let's first create variables for all of the things we're about to go do"
   ]
  },
  {
   "cell_type": "code",
   "execution_count": 3,
   "id": "569dea08",
   "metadata": {},
   "outputs": [],
   "source": [
    "import os\n",
    "\n",
    "path_separator=os.path.sep # get the path separator (forward or backward slash) for this operating system\n",
    "path=\"..\"+path_separator+\"data\" #where did we store the data\n",
    "file=\"Civic_Art_Collection.csv\" #what's the name of the file we're importing\n",
    "collection_name=\"civicArt.db\" # what are we going to call the database\n",
    "table_name=\"civicArtTable\" # what are we going to call the table into which we are importing the file\n",
    "conn=None # place holder for the db connection"
   ]
  },
  {
   "cell_type": "markdown",
   "id": "269a1e3a",
   "metadata": {},
   "source": [
    "### Create the SQL Collection (database)\n",
    "SQLite wants a file with the name of the collection as the db. So, we'll use the shell `touch` command to create it. "
   ]
  },
  {
   "cell_type": "code",
   "execution_count": 4,
   "id": "a77723a8",
   "metadata": {},
   "outputs": [],
   "source": [
    "!touch \"{collection_name}\""
   ]
  },
  {
   "cell_type": "markdown",
   "id": "70e81bc4",
   "metadata": {
    "tags": []
   },
   "source": [
    "### Create the table schema\n",
    "We will use pandas to help use create the schema and, later on, load the data into SQLite"
   ]
  },
  {
   "cell_type": "code",
   "execution_count": 5,
   "id": "9ec99698",
   "metadata": {},
   "outputs": [],
   "source": [
    "import pandas as pd\n",
    "type_dic = {\"object\": \"String\", \"float64\": \"Float64\", \"int64\": \"Int64\"}\n",
    "art_df = pd.read_csv(path+path_separator+file).fillna(0.00)\n",
    "col_names, col_types = [], []\n",
    "\n",
    "for e in zip(art_df.columns, art_df.dtypes):\n",
    "    col_names.append('_'.join(e[0].lower().split(' ')))\n",
    "    col_types.append(type_dic[e[1].__str__()])\n",
    "\n",
    "art_df.columns = col_names"
   ]
  },
  {
   "cell_type": "markdown",
   "id": "a2143567",
   "metadata": {},
   "source": [
    "### Create the table\n",
    "This defines where the data will go and it's 'shape' - that is, the characteristics of each column of data"
   ]
  },
  {
   "cell_type": "code",
   "execution_count": 6,
   "id": "f93eaa9d-e411-4631-a752-f586a3a8d028",
   "metadata": {},
   "outputs": [],
   "source": [
    "import ibis\n",
    "from sqlite3 import Error\n",
    "ibis.options.interactive = True\n",
    "db = ibis.sqlite.connect(collection_name)"
   ]
  },
  {
   "cell_type": "code",
   "execution_count": 7,
   "id": "096b1b1f-cddc-4a56-a27d-626177e492f2",
   "metadata": {},
   "outputs": [],
   "source": [
    "schema = ibis.Schema(names=col_names, types=col_types)\n",
    "# if you're going through this a second time, this will prevent trying to recreate the table definition\n",
    "if not table_name in db.list_tables():\n",
    "    db.create_table(table_name, schema=schema)"
   ]
  },
  {
   "cell_type": "markdown",
   "id": "76a60514",
   "metadata": {},
   "source": [
    "### import the data into the table"
   ]
  },
  {
   "cell_type": "code",
   "execution_count": 8,
   "id": "cb6685d2",
   "metadata": {},
   "outputs": [],
   "source": [
    "db.load_data(table_name, art_df, if_exists='replace')"
   ]
  },
  {
   "cell_type": "markdown",
   "id": "95e0668d",
   "metadata": {},
   "source": [
    "#### list the tables"
   ]
  },
  {
   "cell_type": "code",
   "execution_count": 9,
   "id": "eb099eb2",
   "metadata": {},
   "outputs": [
    {
     "name": "stdout",
     "output_type": "stream",
     "text": [
      "['civicArtTable']\n"
     ]
    }
   ],
   "source": [
    "sql_tables = db.list_tables()\n",
    "print(sql_tables)"
   ]
  },
  {
   "cell_type": "markdown",
   "id": "20659433",
   "metadata": {},
   "source": [
    "#### list the columns in the table"
   ]
  },
  {
   "cell_type": "code",
   "execution_count": 10,
   "id": "032ca0a1",
   "metadata": {},
   "outputs": [
    {
     "name": "stdout",
     "output_type": "stream",
     "text": [
      "columns in civicArtTable\n",
      "['creation_date', 'accession_number', 'artist', 'credit_line', 'display_title', 'display_dimensions', 'medium', 'media_support', 'facility', 'current_location', 'location_description', 'street_address_or_intersection', 'zip_code', 'latitude', 'longitude', 'number_of_districts', 'cultural_districts', 'supervisor_district', 'the_geom', 'sf_find_neighborhoods', 'current_police_districts', 'current_supervisor_districts', 'analysis_neighborhoods', 'neighborhoods']\n"
     ]
    }
   ],
   "source": [
    "# since the results of the preceding command is a list and we may get more than one table in the list\n",
    "# print each table name and the columns for that table\n",
    "for each in sql_tables:\n",
    "    print(f\"columns in {each}\")\n",
    "    print(f\"{db.table(each).columns}\")"
   ]
  },
  {
   "cell_type": "markdown",
   "id": "b6a87a4e",
   "metadata": {},
   "source": [
    "## Querying \n",
    "\n",
    "Anything you can write in a SELECT statement you can write in Ibis. Let's test this out!\n",
    "I’ll use the following code to find out which artists have art currently displayed in the city and what the title of their pieces are. \n",
    "\n",
    "### Selecting columns from a table "
   ]
  },
  {
   "cell_type": "code",
   "execution_count": 11,
   "id": "774ae64b",
   "metadata": {},
   "outputs": [
    {
     "data": {
      "text/plain": [
       "                                   artist  \\\n",
       "0                         O'Malley, Susan   \n",
       "1                     Moya del Pino, Jose   \n",
       "2                                 Ng, Win   \n",
       "3                        Colburn, Adriane   \n",
       "4                      Alexopoulos, Yorgo   \n",
       "...                                   ...   \n",
       "1033                Bongers, Jaap (Jacob)   \n",
       "1034             Fuller (McChesney), Mary   \n",
       "1035  Ghidini, Sheila and Hunter, Leonard   \n",
       "1036                        deSoto, Lewis   \n",
       "1037                    Cummings, M. Earl   \n",
       "\n",
       "                                          display_title  \n",
       "0     Advice from My 80-Year-Old Self: Live Each Day...  \n",
       "1     Murals for the Acme Beer Company (The Gatherin...  \n",
       "2                                               Unknown  \n",
       "3                                        Geologic Ghost  \n",
       "4                                                 Split  \n",
       "...                                                 ...  \n",
       "1033                                        Untitled #2  \n",
       "1034                              Bench support (Tiger)  \n",
       "1035             19th Avenue Shelter at Holloway Avenue  \n",
       "1036  1909: President Theodore Roosevelt Visits the ...  \n",
       "1037                                               Lion  \n",
       "\n",
       "[1038 rows x 2 columns]"
      ]
     },
     "execution_count": 11,
     "metadata": {},
     "output_type": "execute_result"
    }
   ],
   "source": [
    "art = db.table(sql_tables[0])\n",
    "sql_results = art[[\"artist\", \"display_title\"]]\n",
    "sql_results"
   ]
  },
  {
   "cell_type": "markdown",
   "id": "fbd4caa8",
   "metadata": {},
   "source": [
    "### Filtering Data\n",
    "\n",
    "Next let's pick an artist and figure out where exactly all their art is located. Adriane Colburns’ display title, `Geological Ghost` caught my eye so let's choose them! \n",
    "\n",
    "I use the following commands to do this"
   ]
  },
  {
   "cell_type": "code",
   "execution_count": 12,
   "id": "54f79c92",
   "metadata": {},
   "outputs": [
    {
     "data": {
      "text/plain": [
       "    display_title street_address_or_intersection\n",
       "0  Geologic Ghost                    4 Guy Place\n",
       "1  Shadow Kingdom   Daggett Street & 16th Street"
      ]
     },
     "execution_count": 12,
     "metadata": {},
     "output_type": "execute_result"
    }
   ],
   "source": [
    "adrianes_art = art.filter(art.artist == 'Colburn, Adriane')\n",
    "adrianes_art[\"display_title\", \"street_address_or_intersection\"]"
   ]
  },
  {
   "cell_type": "markdown",
   "id": "0b4c3052",
   "metadata": {},
   "source": [
    "So it turns out Adriane has two pieces on display, one at `4 Guy Place` and the other at `Dagget Street & 16th Street`. This is great, we already have some places we can add to our tourist itinerary!  \n",
    "\n",
    "### Groupby\n",
    "\n",
    "I don’t usually stay more than one or two days in a city after a conference, so it might be nice to know which locations have the most art on display. To figure this out we’ll use the following `groupby` expressions to get the information we need. \n",
    "We use `groupy` and `sort_by` to get the 10 locations in San Francisco with the most art! "
   ]
  },
  {
   "cell_type": "code",
   "execution_count": 13,
   "id": "3d09cd86",
   "metadata": {},
   "outputs": [
    {
     "data": {
      "text/plain": [
       "           street_address_or_intersection  display_title\n",
       "0                    1001 Portrero Avenue             59\n",
       "1              1 Telegraph Hill Boulevard             38\n",
       "2                        2695 19th Avenue             28\n",
       "3                  100 Collingwood Street             25\n",
       "4                  236 Monterey Boulevard             25\n",
       "5  Stern Grove Entry Road & Wawona Street             24\n",
       "6               375 Laguna Honda Boulevad             23\n",
       "7                     55 S McDonnell Road             23\n",
       "8             Clay Street & Kearny Street             22\n",
       "9                        3090 23rd Street             18"
      ]
     },
     "execution_count": 13,
     "metadata": {},
     "output_type": "execute_result"
    }
   ],
   "source": [
    "most_art = (\n",
    "    art\n",
    "    .filter(art.street_address_or_intersection !=\"0.0\") # remove outliers\n",
    "    .groupby(\"street_address_or_intersection\")          # aggregate by street\n",
    "    .count('display_title')\n",
    "    .sort_by(ibis.desc('display_title'))                # sort by count in a descending order\n",
    "    .limit(10)                                          # take top 10\n",
    ")\n",
    "most_art\n"
   ]
  },
  {
   "cell_type": "markdown",
   "id": "4b126b31",
   "metadata": {},
   "source": [
    "#### Great, the first stop would be 1001 Potrero Avenue that has 59 titles on display!! "
   ]
  },
  {
   "cell_type": "markdown",
   "id": "b886c683",
   "metadata": {},
   "source": [
    "## Joins \n",
    "\n",
    "Excellent. At this point we know that the next time we’re in San Francisco for a tech conference we have some great options to check out. I only found out after writing my code so let's imagine 1001 Potrero Avenue is not a hospital and use it as our first choice! Now we know where to go. What's next?\n",
    "\n",
    "Well, oftentimes art galleries are filled with hipsters that will likely ask you about the artists on display. The good thing is that we can prepare for this in advance! Lets use an inner join to help us find which artists have the most art showing so we can look them up and feel cool by having a good response ;) \n",
    "\n",
    "### Use inner_join to find the most popular artists\n"
   ]
  },
  {
   "cell_type": "code",
   "execution_count": 31,
   "id": "e4717217",
   "metadata": {},
   "outputs": [
    {
     "ename": "IbisError",
     "evalue": "Table operation is not yet materialized",
     "output_type": "error",
     "traceback": [
      "\u001b[0;31m---------------------------------------------------------------------------\u001b[0m",
      "\u001b[0;31mIbisError\u001b[0m                                 Traceback (most recent call last)",
      "\u001b[0;32m/var/folders/9j/dpfb21pj7d1872wsdj5pwpph0000gn/T/ipykernel_44757/2764310375.py\u001b[0m in \u001b[0;36m<module>\u001b[0;34m\u001b[0m\n\u001b[1;32m     11\u001b[0m \u001b[0;31m# t4 = most_popular_artist.materialize()\u001b[0m\u001b[0;34m\u001b[0m\u001b[0;34m\u001b[0m\u001b[0m\n\u001b[1;32m     12\u001b[0m \u001b[0;34m\u001b[0m\u001b[0m\n\u001b[0;32m---> 13\u001b[0;31m \u001b[0mmost_popular_artist\u001b[0m \u001b[0;34m=\u001b[0m \u001b[0mmost_popular_artist\u001b[0m\u001b[0;34m[\u001b[0m\u001b[0;34m\"artist_x\"\u001b[0m\u001b[0;34m,\u001b[0m \u001b[0;34m\"display_title\"\u001b[0m\u001b[0;34m]\u001b[0m\u001b[0;34m\u001b[0m\u001b[0;34m\u001b[0m\u001b[0m\n\u001b[0m\u001b[1;32m     14\u001b[0m \u001b[0mmost_popular_artist\u001b[0m\u001b[0;34m.\u001b[0m\u001b[0msort_by\u001b[0m\u001b[0;34m(\u001b[0m\u001b[0mibis\u001b[0m\u001b[0;34m.\u001b[0m\u001b[0mdesc\u001b[0m\u001b[0;34m(\u001b[0m\u001b[0mmost_popular_artist\u001b[0m\u001b[0;34m.\u001b[0m\u001b[0mdisplay_title\u001b[0m\u001b[0;34m)\u001b[0m\u001b[0;34m)\u001b[0m\u001b[0;34m\u001b[0m\u001b[0;34m\u001b[0m\u001b[0m\n",
      "\u001b[0;32m~/opt/anaconda3/lib/python3.9/site-packages/ibis/expr/types.py\u001b[0m in \u001b[0;36m__getitem__\u001b[0;34m(self, what)\u001b[0m\n\u001b[1;32m    474\u001b[0m             \u001b[0;32mreturn\u001b[0m \u001b[0mself\u001b[0m\u001b[0;34m.\u001b[0m\u001b[0mlimit\u001b[0m\u001b[0;34m(\u001b[0m\u001b[0mstop\u001b[0m \u001b[0;34m-\u001b[0m \u001b[0mstart\u001b[0m\u001b[0;34m,\u001b[0m \u001b[0moffset\u001b[0m\u001b[0;34m=\u001b[0m\u001b[0mstart\u001b[0m\u001b[0;34m)\u001b[0m\u001b[0;34m\u001b[0m\u001b[0;34m\u001b[0m\u001b[0m\n\u001b[1;32m    475\u001b[0m \u001b[0;34m\u001b[0m\u001b[0m\n\u001b[0;32m--> 476\u001b[0;31m         \u001b[0mwhat\u001b[0m \u001b[0;34m=\u001b[0m \u001b[0mbind_expr\u001b[0m\u001b[0;34m(\u001b[0m\u001b[0mself\u001b[0m\u001b[0;34m,\u001b[0m \u001b[0mwhat\u001b[0m\u001b[0;34m)\u001b[0m\u001b[0;34m\u001b[0m\u001b[0;34m\u001b[0m\u001b[0m\n\u001b[0m\u001b[1;32m    477\u001b[0m \u001b[0;34m\u001b[0m\u001b[0m\n\u001b[1;32m    478\u001b[0m         \u001b[0;32mif\u001b[0m \u001b[0misinstance\u001b[0m\u001b[0;34m(\u001b[0m\u001b[0mwhat\u001b[0m\u001b[0;34m,\u001b[0m \u001b[0mAnalyticExpr\u001b[0m\u001b[0;34m)\u001b[0m\u001b[0;34m:\u001b[0m\u001b[0;34m\u001b[0m\u001b[0;34m\u001b[0m\u001b[0m\n",
      "\u001b[0;32m~/opt/anaconda3/lib/python3.9/site-packages/ibis/expr/types.py\u001b[0m in \u001b[0;36mbind_expr\u001b[0;34m(table, expr)\u001b[0m\n\u001b[1;32m   1149\u001b[0m \u001b[0;32mdef\u001b[0m \u001b[0mbind_expr\u001b[0m\u001b[0;34m(\u001b[0m\u001b[0mtable\u001b[0m\u001b[0;34m,\u001b[0m \u001b[0mexpr\u001b[0m\u001b[0;34m)\u001b[0m\u001b[0;34m:\u001b[0m\u001b[0;34m\u001b[0m\u001b[0;34m\u001b[0m\u001b[0m\n\u001b[1;32m   1150\u001b[0m     \u001b[0;32mif\u001b[0m \u001b[0misinstance\u001b[0m\u001b[0;34m(\u001b[0m\u001b[0mexpr\u001b[0m\u001b[0;34m,\u001b[0m \u001b[0;34m(\u001b[0m\u001b[0mlist\u001b[0m\u001b[0;34m,\u001b[0m \u001b[0mtuple\u001b[0m\u001b[0;34m)\u001b[0m\u001b[0;34m)\u001b[0m\u001b[0;34m:\u001b[0m\u001b[0;34m\u001b[0m\u001b[0;34m\u001b[0m\u001b[0m\n\u001b[0;32m-> 1151\u001b[0;31m         \u001b[0;32mreturn\u001b[0m \u001b[0;34m[\u001b[0m\u001b[0mbind_expr\u001b[0m\u001b[0;34m(\u001b[0m\u001b[0mtable\u001b[0m\u001b[0;34m,\u001b[0m \u001b[0mx\u001b[0m\u001b[0;34m)\u001b[0m \u001b[0;32mfor\u001b[0m \u001b[0mx\u001b[0m \u001b[0;32min\u001b[0m \u001b[0mexpr\u001b[0m\u001b[0;34m]\u001b[0m\u001b[0;34m\u001b[0m\u001b[0;34m\u001b[0m\u001b[0m\n\u001b[0m\u001b[1;32m   1152\u001b[0m \u001b[0;34m\u001b[0m\u001b[0m\n\u001b[1;32m   1153\u001b[0m     \u001b[0;32mreturn\u001b[0m \u001b[0mtable\u001b[0m\u001b[0;34m.\u001b[0m\u001b[0m_ensure_expr\u001b[0m\u001b[0;34m(\u001b[0m\u001b[0mexpr\u001b[0m\u001b[0;34m)\u001b[0m\u001b[0;34m\u001b[0m\u001b[0;34m\u001b[0m\u001b[0m\n",
      "\u001b[0;32m~/opt/anaconda3/lib/python3.9/site-packages/ibis/expr/types.py\u001b[0m in \u001b[0;36m<listcomp>\u001b[0;34m(.0)\u001b[0m\n\u001b[1;32m   1149\u001b[0m \u001b[0;32mdef\u001b[0m \u001b[0mbind_expr\u001b[0m\u001b[0;34m(\u001b[0m\u001b[0mtable\u001b[0m\u001b[0;34m,\u001b[0m \u001b[0mexpr\u001b[0m\u001b[0;34m)\u001b[0m\u001b[0;34m:\u001b[0m\u001b[0;34m\u001b[0m\u001b[0;34m\u001b[0m\u001b[0m\n\u001b[1;32m   1150\u001b[0m     \u001b[0;32mif\u001b[0m \u001b[0misinstance\u001b[0m\u001b[0;34m(\u001b[0m\u001b[0mexpr\u001b[0m\u001b[0;34m,\u001b[0m \u001b[0;34m(\u001b[0m\u001b[0mlist\u001b[0m\u001b[0;34m,\u001b[0m \u001b[0mtuple\u001b[0m\u001b[0;34m)\u001b[0m\u001b[0;34m)\u001b[0m\u001b[0;34m:\u001b[0m\u001b[0;34m\u001b[0m\u001b[0;34m\u001b[0m\u001b[0m\n\u001b[0;32m-> 1151\u001b[0;31m         \u001b[0;32mreturn\u001b[0m \u001b[0;34m[\u001b[0m\u001b[0mbind_expr\u001b[0m\u001b[0;34m(\u001b[0m\u001b[0mtable\u001b[0m\u001b[0;34m,\u001b[0m \u001b[0mx\u001b[0m\u001b[0;34m)\u001b[0m \u001b[0;32mfor\u001b[0m \u001b[0mx\u001b[0m \u001b[0;32min\u001b[0m \u001b[0mexpr\u001b[0m\u001b[0;34m]\u001b[0m\u001b[0;34m\u001b[0m\u001b[0;34m\u001b[0m\u001b[0m\n\u001b[0m\u001b[1;32m   1152\u001b[0m \u001b[0;34m\u001b[0m\u001b[0m\n\u001b[1;32m   1153\u001b[0m     \u001b[0;32mreturn\u001b[0m \u001b[0mtable\u001b[0m\u001b[0;34m.\u001b[0m\u001b[0m_ensure_expr\u001b[0m\u001b[0;34m(\u001b[0m\u001b[0mexpr\u001b[0m\u001b[0;34m)\u001b[0m\u001b[0;34m\u001b[0m\u001b[0;34m\u001b[0m\u001b[0m\n",
      "\u001b[0;32m~/opt/anaconda3/lib/python3.9/site-packages/ibis/expr/types.py\u001b[0m in \u001b[0;36mbind_expr\u001b[0;34m(table, expr)\u001b[0m\n\u001b[1;32m   1151\u001b[0m         \u001b[0;32mreturn\u001b[0m \u001b[0;34m[\u001b[0m\u001b[0mbind_expr\u001b[0m\u001b[0;34m(\u001b[0m\u001b[0mtable\u001b[0m\u001b[0;34m,\u001b[0m \u001b[0mx\u001b[0m\u001b[0;34m)\u001b[0m \u001b[0;32mfor\u001b[0m \u001b[0mx\u001b[0m \u001b[0;32min\u001b[0m \u001b[0mexpr\u001b[0m\u001b[0;34m]\u001b[0m\u001b[0;34m\u001b[0m\u001b[0;34m\u001b[0m\u001b[0m\n\u001b[1;32m   1152\u001b[0m \u001b[0;34m\u001b[0m\u001b[0m\n\u001b[0;32m-> 1153\u001b[0;31m     \u001b[0;32mreturn\u001b[0m \u001b[0mtable\u001b[0m\u001b[0;34m.\u001b[0m\u001b[0m_ensure_expr\u001b[0m\u001b[0;34m(\u001b[0m\u001b[0mexpr\u001b[0m\u001b[0;34m)\u001b[0m\u001b[0;34m\u001b[0m\u001b[0;34m\u001b[0m\u001b[0m\n\u001b[0m\u001b[1;32m   1154\u001b[0m \u001b[0;34m\u001b[0m\u001b[0m\n\u001b[1;32m   1155\u001b[0m \u001b[0;34m\u001b[0m\u001b[0m\n",
      "\u001b[0;32m~/opt/anaconda3/lib/python3.9/site-packages/ibis/expr/types.py\u001b[0m in \u001b[0;36m_ensure_expr\u001b[0;34m(self, expr)\u001b[0m\n\u001b[1;32m    526\u001b[0m     \u001b[0;32mdef\u001b[0m \u001b[0m_ensure_expr\u001b[0m\u001b[0;34m(\u001b[0m\u001b[0mself\u001b[0m\u001b[0;34m,\u001b[0m \u001b[0mexpr\u001b[0m\u001b[0;34m)\u001b[0m\u001b[0;34m:\u001b[0m\u001b[0;34m\u001b[0m\u001b[0;34m\u001b[0m\u001b[0m\n\u001b[1;32m    527\u001b[0m         \u001b[0;32mif\u001b[0m \u001b[0misinstance\u001b[0m\u001b[0;34m(\u001b[0m\u001b[0mexpr\u001b[0m\u001b[0;34m,\u001b[0m \u001b[0mstr\u001b[0m\u001b[0;34m)\u001b[0m\u001b[0;34m:\u001b[0m\u001b[0;34m\u001b[0m\u001b[0;34m\u001b[0m\u001b[0m\n\u001b[0;32m--> 528\u001b[0;31m             \u001b[0;32mreturn\u001b[0m \u001b[0mself\u001b[0m\u001b[0;34m[\u001b[0m\u001b[0mexpr\u001b[0m\u001b[0;34m]\u001b[0m\u001b[0;34m\u001b[0m\u001b[0;34m\u001b[0m\u001b[0m\n\u001b[0m\u001b[1;32m    529\u001b[0m         \u001b[0;32melif\u001b[0m \u001b[0misinstance\u001b[0m\u001b[0;34m(\u001b[0m\u001b[0mexpr\u001b[0m\u001b[0;34m,\u001b[0m \u001b[0;34m(\u001b[0m\u001b[0mint\u001b[0m\u001b[0;34m,\u001b[0m \u001b[0mnp\u001b[0m\u001b[0;34m.\u001b[0m\u001b[0minteger\u001b[0m\u001b[0;34m)\u001b[0m\u001b[0;34m)\u001b[0m\u001b[0;34m:\u001b[0m\u001b[0;34m\u001b[0m\u001b[0;34m\u001b[0m\u001b[0m\n\u001b[1;32m    530\u001b[0m             \u001b[0;32mreturn\u001b[0m \u001b[0mself\u001b[0m\u001b[0;34m[\u001b[0m\u001b[0mself\u001b[0m\u001b[0;34m.\u001b[0m\u001b[0mschema\u001b[0m\u001b[0;34m(\u001b[0m\u001b[0;34m)\u001b[0m\u001b[0;34m.\u001b[0m\u001b[0mname_at_position\u001b[0m\u001b[0;34m(\u001b[0m\u001b[0mexpr\u001b[0m\u001b[0;34m)\u001b[0m\u001b[0;34m]\u001b[0m\u001b[0;34m\u001b[0m\u001b[0;34m\u001b[0m\u001b[0m\n",
      "\u001b[0;32m~/opt/anaconda3/lib/python3.9/site-packages/ibis/expr/types.py\u001b[0m in \u001b[0;36m__getitem__\u001b[0;34m(self, what)\u001b[0m\n\u001b[1;32m    457\u001b[0m     \u001b[0;32mdef\u001b[0m \u001b[0m__getitem__\u001b[0m\u001b[0;34m(\u001b[0m\u001b[0mself\u001b[0m\u001b[0;34m,\u001b[0m \u001b[0mwhat\u001b[0m\u001b[0;34m)\u001b[0m\u001b[0;34m:\u001b[0m\u001b[0;34m\u001b[0m\u001b[0;34m\u001b[0m\u001b[0m\n\u001b[1;32m    458\u001b[0m         \u001b[0;32mif\u001b[0m \u001b[0misinstance\u001b[0m\u001b[0;34m(\u001b[0m\u001b[0mwhat\u001b[0m\u001b[0;34m,\u001b[0m \u001b[0;34m(\u001b[0m\u001b[0mstr\u001b[0m\u001b[0;34m,\u001b[0m \u001b[0mint\u001b[0m\u001b[0;34m)\u001b[0m\u001b[0;34m)\u001b[0m\u001b[0;34m:\u001b[0m\u001b[0;34m\u001b[0m\u001b[0;34m\u001b[0m\u001b[0m\n\u001b[0;32m--> 459\u001b[0;31m             \u001b[0;32mreturn\u001b[0m \u001b[0mself\u001b[0m\u001b[0;34m.\u001b[0m\u001b[0mget_column\u001b[0m\u001b[0;34m(\u001b[0m\u001b[0mwhat\u001b[0m\u001b[0;34m)\u001b[0m\u001b[0;34m\u001b[0m\u001b[0;34m\u001b[0m\u001b[0m\n\u001b[0m\u001b[1;32m    460\u001b[0m \u001b[0;34m\u001b[0m\u001b[0m\n\u001b[1;32m    461\u001b[0m         \u001b[0;32mif\u001b[0m \u001b[0misinstance\u001b[0m\u001b[0;34m(\u001b[0m\u001b[0mwhat\u001b[0m\u001b[0;34m,\u001b[0m \u001b[0mslice\u001b[0m\u001b[0;34m)\u001b[0m\u001b[0;34m:\u001b[0m\u001b[0;34m\u001b[0m\u001b[0;34m\u001b[0m\u001b[0m\n",
      "\u001b[0;32m~/opt/anaconda3/lib/python3.9/site-packages/ibis/expr/types.py\u001b[0m in \u001b[0;36mget_column\u001b[0;34m(self, name)\u001b[0m\n\u001b[1;32m    571\u001b[0m         \u001b[0;32mimport\u001b[0m \u001b[0mibis\u001b[0m\u001b[0;34m.\u001b[0m\u001b[0mexpr\u001b[0m\u001b[0;34m.\u001b[0m\u001b[0moperations\u001b[0m \u001b[0;32mas\u001b[0m \u001b[0mops\u001b[0m\u001b[0;34m\u001b[0m\u001b[0;34m\u001b[0m\u001b[0m\n\u001b[1;32m    572\u001b[0m \u001b[0;34m\u001b[0m\u001b[0m\n\u001b[0;32m--> 573\u001b[0;31m         \u001b[0mref\u001b[0m \u001b[0;34m=\u001b[0m \u001b[0mops\u001b[0m\u001b[0;34m.\u001b[0m\u001b[0mTableColumn\u001b[0m\u001b[0;34m(\u001b[0m\u001b[0mself\u001b[0m\u001b[0;34m,\u001b[0m \u001b[0mname\u001b[0m\u001b[0;34m)\u001b[0m\u001b[0;34m\u001b[0m\u001b[0;34m\u001b[0m\u001b[0m\n\u001b[0m\u001b[1;32m    574\u001b[0m         \u001b[0;32mreturn\u001b[0m \u001b[0mref\u001b[0m\u001b[0;34m.\u001b[0m\u001b[0mto_expr\u001b[0m\u001b[0;34m(\u001b[0m\u001b[0;34m)\u001b[0m\u001b[0;34m\u001b[0m\u001b[0;34m\u001b[0m\u001b[0m\n\u001b[1;32m    575\u001b[0m \u001b[0;34m\u001b[0m\u001b[0m\n",
      "\u001b[0;32m~/opt/anaconda3/lib/python3.9/site-packages/ibis/expr/operations/generic.py\u001b[0m in \u001b[0;36m__init__\u001b[0;34m(self, *args, **kwargs)\u001b[0m\n\u001b[1;32m     42\u001b[0m         \u001b[0mtable\u001b[0m \u001b[0;34m=\u001b[0m \u001b[0mself\u001b[0m\u001b[0;34m.\u001b[0m\u001b[0mtable\u001b[0m\u001b[0;34m\u001b[0m\u001b[0;34m\u001b[0m\u001b[0m\n\u001b[1;32m     43\u001b[0m \u001b[0;34m\u001b[0m\u001b[0m\n\u001b[0;32m---> 44\u001b[0;31m         \u001b[0mschema\u001b[0m \u001b[0;34m=\u001b[0m \u001b[0mtable\u001b[0m\u001b[0;34m.\u001b[0m\u001b[0mschema\u001b[0m\u001b[0;34m(\u001b[0m\u001b[0;34m)\u001b[0m\u001b[0;34m\u001b[0m\u001b[0;34m\u001b[0m\u001b[0m\n\u001b[0m\u001b[1;32m     45\u001b[0m \u001b[0;34m\u001b[0m\u001b[0m\n\u001b[1;32m     46\u001b[0m         \u001b[0;32mif\u001b[0m \u001b[0misinstance\u001b[0m\u001b[0;34m(\u001b[0m\u001b[0mname\u001b[0m\u001b[0;34m,\u001b[0m \u001b[0mint\u001b[0m\u001b[0;34m)\u001b[0m\u001b[0;34m:\u001b[0m\u001b[0;34m\u001b[0m\u001b[0;34m\u001b[0m\u001b[0m\n",
      "\u001b[0;32m~/opt/anaconda3/lib/python3.9/site-packages/ibis/expr/types.py\u001b[0m in \u001b[0;36mschema\u001b[0;34m(self)\u001b[0m\n\u001b[1;32m    587\u001b[0m         \"\"\"\n\u001b[1;32m    588\u001b[0m         \u001b[0;32mif\u001b[0m \u001b[0;32mnot\u001b[0m \u001b[0mself\u001b[0m\u001b[0;34m.\u001b[0m\u001b[0m_is_materialized\u001b[0m\u001b[0;34m(\u001b[0m\u001b[0;34m)\u001b[0m\u001b[0;34m:\u001b[0m\u001b[0;34m\u001b[0m\u001b[0;34m\u001b[0m\u001b[0m\n\u001b[0;32m--> 589\u001b[0;31m             \u001b[0;32mraise\u001b[0m \u001b[0mcom\u001b[0m\u001b[0;34m.\u001b[0m\u001b[0mIbisError\u001b[0m\u001b[0;34m(\u001b[0m\u001b[0;34m'Table operation is not yet materialized'\u001b[0m\u001b[0;34m)\u001b[0m\u001b[0;34m\u001b[0m\u001b[0;34m\u001b[0m\u001b[0m\n\u001b[0m\u001b[1;32m    590\u001b[0m         \u001b[0;32mreturn\u001b[0m \u001b[0mself\u001b[0m\u001b[0;34m.\u001b[0m\u001b[0mop\u001b[0m\u001b[0;34m(\u001b[0m\u001b[0;34m)\u001b[0m\u001b[0;34m.\u001b[0m\u001b[0mschema\u001b[0m\u001b[0;34m\u001b[0m\u001b[0;34m\u001b[0m\u001b[0m\n\u001b[1;32m    591\u001b[0m \u001b[0;34m\u001b[0m\u001b[0m\n",
      "\u001b[0;31mIbisError\u001b[0m: Table operation is not yet materialized"
     ]
    }
   ],
   "source": [
    "artist_location = art[\"street_address_or_intersection\", \"artist\"]\n",
    "#t1 = artist_location[\"street_address_or_intersection\"]\n",
    "#t2 = artist_location.filter(t1 == \"1001 Portrero Avenue\")\n",
    "#t3 = t2.distinct()\n",
    "artists_at_portrero = artist_location.filter(artist_location[\"street_address_or_intersection\"] == \"1001 Portrero Avenue\").distinct()\n",
    "artist_number_of_displays = art.groupby(\"artist\").count(\"display_title\")\n",
    "\n",
    "most_popular_artist = artists_at_portrero.inner_join(\n",
    "    artist_number_of_displays,\n",
    "    predicates=artists_at_portrero[\"artist\"] == artist_number_of_displays[\"artist\"])\n",
    "# t4 = most_popular_artist.materialize()\n",
    "\n",
    "most_popular_artist = most_popular_artist[\"artist_x\", \"display_title\"]\n",
    "most_popular_artist.sort_by(ibis.desc(most_popular_artist.display_title))\n"
   ]
  },
  {
   "cell_type": "code",
   "execution_count": null,
   "id": "7ef887f3",
   "metadata": {},
   "outputs": [],
   "source": []
  }
 ],
 "metadata": {
  "kernelspec": {
   "display_name": "Python 3 (ipykernel)",
   "language": "python",
   "name": "python3"
  },
  "language_info": {
   "codemirror_mode": {
    "name": "ipython",
    "version": 3
   },
   "file_extension": ".py",
   "mimetype": "text/x-python",
   "name": "python",
   "nbconvert_exporter": "python",
   "pygments_lexer": "ipython3",
   "version": "3.9.7"
  }
 },
 "nbformat": 4,
 "nbformat_minor": 5
}
