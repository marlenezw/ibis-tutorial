{
 "cells": [
  {
   "cell_type": "markdown",
   "id": "80aa4f49",
   "metadata": {},
   "source": [
    "For Python programmers Ibis offers a way to write SQL in Python that allows for unit-testing, composability, and abstraction over specific query engines (e.g.BigQuery)! You can carry out joins, filters and other operations on your data in a familiar, Pandas-like syntax. Overall, using Ibis simplifies your workflows, makes you more productive, and keeps your code readable."
   ]
  },
  {
   "cell_type": "markdown",
   "id": "688facff",
   "metadata": {},
   "source": [
    "Let's start by getting ibis and sqlite installed on your system. In the next several cells, you will notice that the first character is an exclamation point: ***!*** This tells Jupyter that we're running a shell (terminal) command instead of python code in the notebook"
   ]
  },
  {
   "cell_type": "markdown",
   "id": "83c1620c",
   "metadata": {},
   "source": [
    "## Install SQLite"
   ]
  },
  {
   "cell_type": "code",
   "execution_count": null,
   "id": "3dca8b0f",
   "metadata": {},
   "outputs": [],
   "source": [
    "!conda install -c anaconda sqlite "
   ]
  },
  {
   "cell_type": "markdown",
   "id": "891399d2",
   "metadata": {},
   "source": [
    "## Install ibis"
   ]
  },
  {
   "cell_type": "code",
   "execution_count": null,
   "id": "07878a0c",
   "metadata": {},
   "outputs": [],
   "source": [
    "!conda install -c conda-forge ibis-framework     "
   ]
  },
  {
   "cell_type": "markdown",
   "id": "599ba27d",
   "metadata": {},
   "source": [
    "## Get the data\n",
    "We're using the `Civic Art Collection` database, which can be downloaded here: https://data.sfgov.org/Culture-and-Recreation/Civic-Art-Collection/r7bn-7v9c using the `Export` service in the top right corner. Please select `CSV` for your export format. When you've completed the download, store the downloaded file in the `data` directory in this folder.\n",
    "\n",
    "When you're done, you should see the following information when you list this folder:\n",
    ">`data                       ibis_sqlite_tutorial.ipynb`\n",
    "\n",
    "and when you list the Data folder you should see: \n",
    ">`Civic_Art_Collection.csv`\n",
    "<br>"
   ]
  },
  {
   "cell_type": "markdown",
   "id": "dccbb067",
   "metadata": {},
   "source": [
    "## Create the SQLite database"
   ]
  },
  {
   "cell_type": "markdown",
   "id": "51e4e028",
   "metadata": {},
   "source": [
    "### let's first create variables for all of the things we're about to go do"
   ]
  },
  {
   "cell_type": "code",
   "execution_count": 1,
   "id": "569dea08",
   "metadata": {},
   "outputs": [],
   "source": [
    "import os\n",
    "path=\"../data\" #where did we store the data\n",
    "file=\"Civic_Art_Collection.csv\" #what's the name of the file we're importing\n",
    "collection_name=\"civicArt.db\" # what are we going to call the database\n",
    "table_name=\"civicArtTable\" # what are we going to call the table into which we are importing the file\n",
    "path_separator=os.path.sep # get the path separator (forward or backward slash) for this operating system\n",
    "conn=None # place holder for the db connection"
   ]
  },
  {
   "cell_type": "markdown",
   "id": "269a1e3a",
   "metadata": {},
   "source": [
    "### Create the SQL Collection (database)\n",
    "SQLite wants a file with the name of the collection as the db. so we'll use the shell `touch` command to create it. "
   ]
  },
  {
   "cell_type": "code",
   "execution_count": 2,
   "id": "a77723a8",
   "metadata": {},
   "outputs": [],
   "source": [
    "!touch \"{collection_name}\""
   ]
  },
  {
   "cell_type": "markdown",
   "id": "70e81bc4",
   "metadata": {
    "tags": []
   },
   "source": [
    "### Create the table schema\n",
    "We will use pandas to help use create the schema and, later on, load the data into SQLite"
   ]
  },
  {
   "cell_type": "code",
   "execution_count": 3,
   "id": "9ec99698",
   "metadata": {},
   "outputs": [],
   "source": [
    "import pandas as pd\n",
    "type_dic = {\"object\": \"String\", \"float64\": \"Float64\", \"int64\": \"Int64\"}\n",
    "art_df = pd.read_csv(path+path_separator+file).fillna(0.00)\n",
    "col_names, col_types = [], []\n",
    "\n",
    "for e in zip(art_df.columns, art_df.dtypes):\n",
    "    col_names.append('_'.join(e[0].lower().split(' ')))\n",
    "    col_types.append(type_dic[e[1].__str__()])\n",
    "art_df.columns = col_names\n",
    "# col_names, col_types"
   ]
  },
  {
   "cell_type": "markdown",
   "id": "28d06ccf",
   "metadata": {},
   "source": [
    "### Create the table\n",
    "This defines where the data will go and it's 'shape' - that is, the characteristics of each column of data"
   ]
  },
  {
   "cell_type": "code",
   "execution_count": 4,
   "id": "f93eaa9d-e411-4631-a752-f586a3a8d028",
   "metadata": {},
   "outputs": [],
   "source": [
    "import ibis\n",
    "ibis.options.interactive = True\n",
    "db = ibis.sqlite.connect(collection_name)"
   ]
  },
  {
   "cell_type": "code",
   "execution_count": 5,
   "id": "096b1b1f-cddc-4a56-a27d-626177e492f2",
   "metadata": {},
   "outputs": [],
   "source": [
    "schema = ibis.Schema(names=col_names, types=col_types)\n",
    "db.create_table(table_name, schema=schema)"
   ]
  },
  {
   "cell_type": "markdown",
   "id": "76a60514",
   "metadata": {},
   "source": [
    "### import the data into the table"
   ]
  },
  {
   "cell_type": "code",
   "execution_count": 6,
   "id": "cb6685d2",
   "metadata": {},
   "outputs": [],
   "source": [
    "db.load_data(table_name, art_df, if_exists='replace')"
   ]
  },
  {
   "cell_type": "markdown",
   "id": "55e41592",
   "metadata": {},
   "source": [
    "#### list the tables"
   ]
  },
  {
   "cell_type": "code",
   "execution_count": 7,
   "id": "eb099eb2",
   "metadata": {},
   "outputs": [
    {
     "name": "stdout",
     "output_type": "stream",
     "text": [
      "['civicArtTable']\n"
     ]
    }
   ],
   "source": [
    "sql_tables = db.list_tables()\n",
    "print(sql_tables)"
   ]
  },
  {
   "cell_type": "markdown",
   "id": "0b1c3cc0",
   "metadata": {},
   "source": [
    "#### list the columns in the table"
   ]
  },
  {
   "cell_type": "code",
   "execution_count": 8,
   "id": "032ca0a1",
   "metadata": {},
   "outputs": [
    {
     "name": "stdout",
     "output_type": "stream",
     "text": [
      "columns in civicArtTable\n",
      "['creation_date', 'accession_number', 'artist', 'credit_line', 'display_title', 'display_dimensions', 'medium', 'media_support', 'facility', 'current_location', 'location_description', 'street_address_or_intersection', 'zip_code', 'latitude', 'longitude', 'number_of_districts', 'cultural_districts', 'supervisor_district', 'the_geom', 'sf_find_neighborhoods', 'current_police_districts', 'current_supervisor_districts', 'analysis_neighborhoods', 'neighborhoods']\n"
     ]
    }
   ],
   "source": [
    "# since the results of the preceding command is a list and we may get more than one table in the list\n",
    "# print each table name and the columns for that table\n",
    "for each in sql_tables:\n",
    "    print(f\"columns in {each}\")\n",
    "    print(f\"{db.table(each).columns}\")"
   ]
  },
  {
   "cell_type": "markdown",
   "id": "b8c287f9",
   "metadata": {},
   "source": [
    "## Querying \n",
    "\n",
    "Anything you can write in a SELECT statement you can write in Ibis. Let's test this out!\n",
    "I’ll use the following code to find out which artists have art currently displayed in the city and what the title of their pieces are. \n",
    "\n",
    "### Selecting columns from a table "
   ]
  },
  {
   "cell_type": "code",
   "execution_count": 11,
   "id": "774ae64b",
   "metadata": {},
   "outputs": [
    {
     "data": {
      "text/html": [
       "<div>\n",
       "<style scoped>\n",
       "    .dataframe tbody tr th:only-of-type {\n",
       "        vertical-align: middle;\n",
       "    }\n",
       "\n",
       "    .dataframe tbody tr th {\n",
       "        vertical-align: top;\n",
       "    }\n",
       "\n",
       "    .dataframe thead th {\n",
       "        text-align: right;\n",
       "    }\n",
       "</style>\n",
       "<table border=\"1\" class=\"dataframe\">\n",
       "  <thead>\n",
       "    <tr style=\"text-align: right;\">\n",
       "      <th></th>\n",
       "      <th>artist</th>\n",
       "      <th>display_title</th>\n",
       "    </tr>\n",
       "  </thead>\n",
       "  <tbody>\n",
       "    <tr>\n",
       "      <th>0</th>\n",
       "      <td>O'Malley, Susan</td>\n",
       "      <td>Advice from My 80-Year-Old Self: Live Each Day...</td>\n",
       "    </tr>\n",
       "    <tr>\n",
       "      <th>1</th>\n",
       "      <td>Moya del Pino, Jose</td>\n",
       "      <td>Murals for the Acme Beer Company (The Gatherin...</td>\n",
       "    </tr>\n",
       "    <tr>\n",
       "      <th>2</th>\n",
       "      <td>Ng, Win</td>\n",
       "      <td>Unknown</td>\n",
       "    </tr>\n",
       "    <tr>\n",
       "      <th>3</th>\n",
       "      <td>Colburn, Adriane</td>\n",
       "      <td>Geologic Ghost</td>\n",
       "    </tr>\n",
       "    <tr>\n",
       "      <th>4</th>\n",
       "      <td>Alexopoulos, Yorgo</td>\n",
       "      <td>Split</td>\n",
       "    </tr>\n",
       "    <tr>\n",
       "      <th>...</th>\n",
       "      <td>...</td>\n",
       "      <td>...</td>\n",
       "    </tr>\n",
       "    <tr>\n",
       "      <th>1033</th>\n",
       "      <td>Bongers, Jaap (Jacob)</td>\n",
       "      <td>Untitled #2</td>\n",
       "    </tr>\n",
       "    <tr>\n",
       "      <th>1034</th>\n",
       "      <td>Fuller (McChesney), Mary</td>\n",
       "      <td>Bench support (Tiger)</td>\n",
       "    </tr>\n",
       "    <tr>\n",
       "      <th>1035</th>\n",
       "      <td>Ghidini, Sheila and Hunter, Leonard</td>\n",
       "      <td>19th Avenue Shelter at Holloway Avenue</td>\n",
       "    </tr>\n",
       "    <tr>\n",
       "      <th>1036</th>\n",
       "      <td>deSoto, Lewis</td>\n",
       "      <td>1909: President Theodore Roosevelt Visits the ...</td>\n",
       "    </tr>\n",
       "    <tr>\n",
       "      <th>1037</th>\n",
       "      <td>Cummings, M. Earl</td>\n",
       "      <td>Lion</td>\n",
       "    </tr>\n",
       "  </tbody>\n",
       "</table>\n",
       "<p>1038 rows × 2 columns</p>\n",
       "</div>"
      ],
      "text/plain": [
       "                                   artist  \\\n",
       "0                         O'Malley, Susan   \n",
       "1                     Moya del Pino, Jose   \n",
       "2                                 Ng, Win   \n",
       "3                        Colburn, Adriane   \n",
       "4                      Alexopoulos, Yorgo   \n",
       "...                                   ...   \n",
       "1033                Bongers, Jaap (Jacob)   \n",
       "1034             Fuller (McChesney), Mary   \n",
       "1035  Ghidini, Sheila and Hunter, Leonard   \n",
       "1036                        deSoto, Lewis   \n",
       "1037                    Cummings, M. Earl   \n",
       "\n",
       "                                          display_title  \n",
       "0     Advice from My 80-Year-Old Self: Live Each Day...  \n",
       "1     Murals for the Acme Beer Company (The Gatherin...  \n",
       "2                                               Unknown  \n",
       "3                                        Geologic Ghost  \n",
       "4                                                 Split  \n",
       "...                                                 ...  \n",
       "1033                                        Untitled #2  \n",
       "1034                              Bench support (Tiger)  \n",
       "1035             19th Avenue Shelter at Holloway Avenue  \n",
       "1036  1909: President Theodore Roosevelt Visits the ...  \n",
       "1037                                               Lion  \n",
       "\n",
       "[1038 rows x 2 columns]"
      ]
     },
     "execution_count": 11,
     "metadata": {},
     "output_type": "execute_result"
    }
   ],
   "source": [
    "art = db.table(sql_tables[0])\n",
    "sql_results = art[[\"artist\", \"display_title\"]]\n",
    "sql_results"
   ]
  },
  {
   "cell_type": "markdown",
   "id": "fc7d6fd9",
   "metadata": {},
   "source": [
    "### Filtering Data\n",
    "\n",
    "Next let's pick an artist and figure out where exactly all their art is located. Adriane Colburns’ display title, `Geological Ghost` caught my eye so let's choose them! \n",
    "\n",
    "I use the following commands to do this"
   ]
  },
  {
   "cell_type": "code",
   "execution_count": 12,
   "id": "54f79c92",
   "metadata": {},
   "outputs": [
    {
     "data": {
      "text/html": [
       "<div>\n",
       "<style scoped>\n",
       "    .dataframe tbody tr th:only-of-type {\n",
       "        vertical-align: middle;\n",
       "    }\n",
       "\n",
       "    .dataframe tbody tr th {\n",
       "        vertical-align: top;\n",
       "    }\n",
       "\n",
       "    .dataframe thead th {\n",
       "        text-align: right;\n",
       "    }\n",
       "</style>\n",
       "<table border=\"1\" class=\"dataframe\">\n",
       "  <thead>\n",
       "    <tr style=\"text-align: right;\">\n",
       "      <th></th>\n",
       "      <th>creation_date</th>\n",
       "      <th>accession_number</th>\n",
       "      <th>artist</th>\n",
       "      <th>credit_line</th>\n",
       "      <th>display_title</th>\n",
       "      <th>display_dimensions</th>\n",
       "      <th>medium</th>\n",
       "      <th>media_support</th>\n",
       "      <th>facility</th>\n",
       "      <th>current_location</th>\n",
       "      <th>...</th>\n",
       "      <th>longitude</th>\n",
       "      <th>number_of_districts</th>\n",
       "      <th>cultural_districts</th>\n",
       "      <th>supervisor_district</th>\n",
       "      <th>the_geom</th>\n",
       "      <th>sf_find_neighborhoods</th>\n",
       "      <th>current_police_districts</th>\n",
       "      <th>current_supervisor_districts</th>\n",
       "      <th>analysis_neighborhoods</th>\n",
       "      <th>neighborhoods</th>\n",
       "    </tr>\n",
       "  </thead>\n",
       "  <tbody>\n",
       "    <tr>\n",
       "      <th>0</th>\n",
       "      <td>2020</td>\n",
       "      <td>T2016.046</td>\n",
       "      <td>Colburn, Adriane</td>\n",
       "      <td>0.0</td>\n",
       "      <td>Geologic Ghost</td>\n",
       "      <td>0.0</td>\n",
       "      <td>waterjet cut steel</td>\n",
       "      <td>0.0</td>\n",
       "      <td>Guy Place Mini Park</td>\n",
       "      <td>City Agency</td>\n",
       "      <td>...</td>\n",
       "      <td>-122.394391</td>\n",
       "      <td>0</td>\n",
       "      <td>0.0</td>\n",
       "      <td>6.0</td>\n",
       "      <td>POINT (-122.39439100099997 37.78668401700003)</td>\n",
       "      <td>30.0</td>\n",
       "      <td>1.0</td>\n",
       "      <td>10.0</td>\n",
       "      <td>8.0</td>\n",
       "      <td>30.0</td>\n",
       "    </tr>\n",
       "    <tr>\n",
       "      <th>1</th>\n",
       "      <td>2016</td>\n",
       "      <td>2017.1.a-e</td>\n",
       "      <td>Colburn, Adriane</td>\n",
       "      <td>Collection of the City and County of San Franc...</td>\n",
       "      <td>Shadow Kingdom</td>\n",
       "      <td>0.0</td>\n",
       "      <td>Painted Steel and granite</td>\n",
       "      <td>Painted Steel and granite</td>\n",
       "      <td>Daggett Park</td>\n",
       "      <td>Public Display</td>\n",
       "      <td>...</td>\n",
       "      <td>-122.396320</td>\n",
       "      <td>0</td>\n",
       "      <td>0.0</td>\n",
       "      <td>10.0</td>\n",
       "      <td>POINT (-122.39631992899997 37.766470051000056)</td>\n",
       "      <td>33.0</td>\n",
       "      <td>1.0</td>\n",
       "      <td>9.0</td>\n",
       "      <td>4.0</td>\n",
       "      <td>33.0</td>\n",
       "    </tr>\n",
       "  </tbody>\n",
       "</table>\n",
       "<p>2 rows × 24 columns</p>\n",
       "</div>"
      ],
      "text/plain": [
       "  creation_date accession_number            artist  \\\n",
       "0          2020        T2016.046  Colburn, Adriane   \n",
       "1          2016       2017.1.a-e  Colburn, Adriane   \n",
       "\n",
       "                                         credit_line   display_title  \\\n",
       "0                                                0.0  Geologic Ghost   \n",
       "1  Collection of the City and County of San Franc...  Shadow Kingdom   \n",
       "\n",
       "  display_dimensions                     medium              media_support  \\\n",
       "0                0.0         waterjet cut steel                        0.0   \n",
       "1                0.0  Painted Steel and granite  Painted Steel and granite   \n",
       "\n",
       "              facility current_location  ...   longitude number_of_districts  \\\n",
       "0  Guy Place Mini Park      City Agency  ... -122.394391                   0   \n",
       "1         Daggett Park   Public Display  ... -122.396320                   0   \n",
       "\n",
       "  cultural_districts  supervisor_district  \\\n",
       "0                0.0                  6.0   \n",
       "1                0.0                 10.0   \n",
       "\n",
       "                                         the_geom  sf_find_neighborhoods  \\\n",
       "0   POINT (-122.39439100099997 37.78668401700003)                   30.0   \n",
       "1  POINT (-122.39631992899997 37.766470051000056)                   33.0   \n",
       "\n",
       "  current_police_districts  current_supervisor_districts  \\\n",
       "0                      1.0                          10.0   \n",
       "1                      1.0                           9.0   \n",
       "\n",
       "  analysis_neighborhoods  neighborhoods  \n",
       "0                    8.0           30.0  \n",
       "1                    4.0           33.0  \n",
       "\n",
       "[2 rows x 24 columns]"
      ]
     },
     "execution_count": 12,
     "metadata": {},
     "output_type": "execute_result"
    }
   ],
   "source": [
    "adrianes_art = art.filter(art.artist == 'Colburn, Adriane')\n",
    "adrianes_art"
   ]
  },
  {
   "cell_type": "markdown",
   "id": "471b8670",
   "metadata": {},
   "source": [
    "So it turns out Adriane has two pieces on display, one at `4 Guy Place` and the other at `Dagget Street & 16th Street`. This is great, we already have some places we can add to our tourist itinerary!  \n",
    "\n",
    "### Groupby\n",
    "\n",
    "I don’t usually stay more than one or two days in a city after a conference, so it might be nice to know which locations have the most art on display. To figure this out we’ll use the following `groupby` expressions to get the information we need. \n",
    "We use `groupy` and `sort_by` to get the 10 locations in San Francisco with the most art! "
   ]
  },
  {
   "cell_type": "code",
   "execution_count": 22,
   "id": "3d09cd86",
   "metadata": {},
   "outputs": [
    {
     "data": {
      "text/html": [
       "<div>\n",
       "<style scoped>\n",
       "    .dataframe tbody tr th:only-of-type {\n",
       "        vertical-align: middle;\n",
       "    }\n",
       "\n",
       "    .dataframe tbody tr th {\n",
       "        vertical-align: top;\n",
       "    }\n",
       "\n",
       "    .dataframe thead th {\n",
       "        text-align: right;\n",
       "    }\n",
       "</style>\n",
       "<table border=\"1\" class=\"dataframe\">\n",
       "  <thead>\n",
       "    <tr style=\"text-align: right;\">\n",
       "      <th></th>\n",
       "      <th>street_address_or_intersection</th>\n",
       "      <th>display_title</th>\n",
       "    </tr>\n",
       "  </thead>\n",
       "  <tbody>\n",
       "    <tr>\n",
       "      <th>0</th>\n",
       "      <td>1001 Portrero Avenue</td>\n",
       "      <td>59</td>\n",
       "    </tr>\n",
       "    <tr>\n",
       "      <th>1</th>\n",
       "      <td>1 Telegraph Hill Boulevard</td>\n",
       "      <td>38</td>\n",
       "    </tr>\n",
       "    <tr>\n",
       "      <th>2</th>\n",
       "      <td>2695 19th Avenue</td>\n",
       "      <td>28</td>\n",
       "    </tr>\n",
       "    <tr>\n",
       "      <th>3</th>\n",
       "      <td>100 Collingwood Street</td>\n",
       "      <td>25</td>\n",
       "    </tr>\n",
       "    <tr>\n",
       "      <th>4</th>\n",
       "      <td>236 Monterey Boulevard</td>\n",
       "      <td>25</td>\n",
       "    </tr>\n",
       "    <tr>\n",
       "      <th>5</th>\n",
       "      <td>Stern Grove Entry Road &amp; Wawona Street</td>\n",
       "      <td>24</td>\n",
       "    </tr>\n",
       "    <tr>\n",
       "      <th>6</th>\n",
       "      <td>375 Laguna Honda Boulevad</td>\n",
       "      <td>23</td>\n",
       "    </tr>\n",
       "    <tr>\n",
       "      <th>7</th>\n",
       "      <td>55 S McDonnell Road</td>\n",
       "      <td>23</td>\n",
       "    </tr>\n",
       "    <tr>\n",
       "      <th>8</th>\n",
       "      <td>Clay Street &amp; Kearny Street</td>\n",
       "      <td>22</td>\n",
       "    </tr>\n",
       "    <tr>\n",
       "      <th>9</th>\n",
       "      <td>3090 23rd Street</td>\n",
       "      <td>18</td>\n",
       "    </tr>\n",
       "  </tbody>\n",
       "</table>\n",
       "</div>"
      ],
      "text/plain": [
       "           street_address_or_intersection  display_title\n",
       "0                    1001 Portrero Avenue             59\n",
       "1              1 Telegraph Hill Boulevard             38\n",
       "2                        2695 19th Avenue             28\n",
       "3                  100 Collingwood Street             25\n",
       "4                  236 Monterey Boulevard             25\n",
       "5  Stern Grove Entry Road & Wawona Street             24\n",
       "6               375 Laguna Honda Boulevad             23\n",
       "7                     55 S McDonnell Road             23\n",
       "8             Clay Street & Kearny Street             22\n",
       "9                        3090 23rd Street             18"
      ]
     },
     "execution_count": 22,
     "metadata": {},
     "output_type": "execute_result"
    }
   ],
   "source": [
    "most_art = (\n",
    "    art\n",
    "    .filter(art.street_address_or_intersection !=\"0.0\") # remove outliers\n",
    "    .groupby(\"street_address_or_intersection\")          # aggregate by street\n",
    "    .count('display_title')\n",
    "    .sort_by(ibis.desc('display_title'))                # sort by count in a descending order\n",
    "    .limit(10)                                          # take top 10\n",
    ")\n",
    "most_art\n"
   ]
  },
  {
   "cell_type": "markdown",
   "id": "f50085a9",
   "metadata": {},
   "source": [
    "#### Great, the first stop would be 1001 Potrero Avenue that has 59 titles on display!! "
   ]
  },
  {
   "cell_type": "code",
   "execution_count": null,
   "id": "0a54c778",
   "metadata": {},
   "outputs": [],
   "source": []
  }
 ],
 "metadata": {
  "kernelspec": {
   "display_name": "Python 3 (ipykernel)",
   "language": "python",
   "name": "python3"
  },
  "language_info": {
   "codemirror_mode": {
    "name": "ipython",
    "version": 3
   },
   "file_extension": ".py",
   "mimetype": "text/x-python",
   "name": "python",
   "nbconvert_exporter": "python",
   "pygments_lexer": "ipython3",
   "version": "3.8.12"
  }
 },
 "nbformat": 4,
 "nbformat_minor": 5
}
