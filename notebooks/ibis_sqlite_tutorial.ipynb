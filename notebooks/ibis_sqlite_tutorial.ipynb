{
 "cells": [
  {
   "cell_type": "markdown",
   "id": "80aa4f49",
   "metadata": {},
   "source": [
    "For Python programmers Ibis offers a way to write SQL in Python that allows for unit-testing, composability, and abstraction over specific query engines (e.g.BigQuery)! You can carry out joins, filters and other operations on your data in a familiar, Pandas-like syntax. Overall, using Ibis simplifies your workflows, makes you more productive, and keeps your code readable."
   ]
  },
  {
   "cell_type": "markdown",
   "id": "688facff",
   "metadata": {},
   "source": [
    "Let's start by getting ibis and sqlite installed on your system. In the next several cells, you will notice that the first character is an exclamation point: ***!*** This tells Jupyter that we're running a shell (terminal) command instead of python code in the notebook"
   ]
  },
  {
   "cell_type": "markdown",
   "id": "df5432d4",
   "metadata": {},
   "source": [
    "## Install SQLite"
   ]
  },
  {
   "cell_type": "code",
   "execution_count": null,
   "id": "fe7dbd75",
   "metadata": {
    "scrolled": true
   },
   "outputs": [],
   "source": [
    "! conda install -c anaconda sqlite"
   ]
  },
  {
   "cell_type": "markdown",
   "id": "891399d2",
   "metadata": {},
   "source": [
    "## Install ibis"
   ]
  },
  {
   "cell_type": "code",
   "execution_count": null,
   "id": "07878a0c",
   "metadata": {},
   "outputs": [],
   "source": [
    "! conda install -c conda-forge ibis-framework     "
   ]
  },
  {
   "cell_type": "markdown",
   "id": "599ba27d",
   "metadata": {},
   "source": [
    "## Get the data\n",
    "We're using the `Civic Art Collection` database, which can be downloaded here: https://data.sfgov.org/Culture-and-Recreation/Civic-Art-Collection/r7bn-7v9c using the `Export` service in the top right corner. Please select `CSV` for your export format. When you've completed the download, store the downloaded file in the `data` directory in this folder.\n",
    "\n",
    "When you're done, you should see the following information when you list this folder:\n",
    ">`data                       ibis_sqlite_tutorial.ipynb`\n",
    "\n",
    "and when you list the Data folder you should see: \n",
    ">`Civic_Art_Collection.csv`\n",
    "<br>"
   ]
  },
  {
   "cell_type": "markdown",
   "id": "dccbb067",
   "metadata": {},
   "source": [
    "## Create the SQLite database"
   ]
  },
  {
   "cell_type": "markdown",
   "id": "4ad2ad99",
   "metadata": {},
   "source": [
    "## We will use python to create the target database as this is not yet supported in ibis. \n",
    "The following code will:\n",
    " - create the initial SQL collection (database)\n",
    " - set SQLite to import the data from a CSV file\n",
    " - import the data\n",
    "Following that, we will check to see that the correct tables have been imported and describe the tables.  "
   ]
  },
  {
   "cell_type": "markdown",
   "id": "51e4e028",
   "metadata": {},
   "source": [
    "### let's first create variables for all of the things we're about to go do"
   ]
  },
  {
   "cell_type": "code",
   "execution_count": null,
   "id": "569dea08",
   "metadata": {},
   "outputs": [],
   "source": [
    "import sqlite3\n",
    "import os\n",
    "path=\"data\" #where did we store the data\n",
    "file=\"Civic_Art_Collection.csv\" #what's the name of the file we're importing\n",
    "mode=\"csv\" # what is the file format\n",
    "collection_name=\"civicArt.db\" # what are we going to call the database\n",
    "table_name=\"civicArtTable\" # what are we going to call the table into which we are importing the file\n",
    "path_separator=os.path.sep # get the path separator (forward or backward slash) for this operating system\n",
    "conn=None # place holder for the db connection"
   ]
  },
  {
   "cell_type": "markdown",
   "id": "269a1e3a",
   "metadata": {},
   "source": [
    "### Create the SQL Collection (database)\n",
    "When SQLite receives a connection request for a database, if a db of that name does not already exist, it will be created on the fly. "
   ]
  },
  {
   "cell_type": "code",
   "execution_count": null,
   "id": "a77723a8",
   "metadata": {},
   "outputs": [],
   "source": [
    "from sqlite3 import Error\n",
    "try:\n",
    "    conn = sqlite3.connect(collection_name)\n",
    "    print(f\"Connection Successful Currently using sqllite version: {sqlite3.version}\")\n",
    "except Error as e:\n",
    "    print(f\"Connection request failed with following error: \\n{e}\")"
   ]
  },
  {
   "cell_type": "markdown",
   "id": "70e81bc4",
   "metadata": {},
   "source": [
    "### Create the table schema"
   ]
  },
  {
   "cell_type": "code",
   "execution_count": null,
   "id": "19177f81",
   "metadata": {},
   "outputs": [],
   "source": [
    "# get the header information from the csv file. Let's use pandas for that\n",
    "import pandas as pd\n",
    "art_df = pd.read_csv(path+path_separator+file)\n",
    "colNames = list(art_df.columns)\n",
    "# Most of the columns in this table are strings and we could very simply import the table with everything \n",
    "# treated as a string\n",
    "# The `accession_number` is unique for the table and we could use that as the key.\n",
    "# first, let's just make everything a string as far as the db is concerned:\n",
    "for idx, each in enumerate(colNames):\n",
    "    if each == \"accession_number\":\n",
    "        colNames[idx] = \"_\".join(colNames[idx].split()) + \" text PRIMARY KEY, \"\n",
    "    elif idx != len(colNames)-1:\n",
    "        colNames[idx] = \"_\".join(colNames[idx].split()) + \" text, \"\n",
    "    else:\n",
    "        colNames[idx] = \"_\".join(colNames[idx].split()) + \" text \"\n",
    "table_schema = \"(\" + \"\\n\".join(colNames) + \")\"\n",
    "sql_string = \" CREATE TABLE IF NOT EXISTS \" + table_name + \" \" + table_schema +\" ;\"\n",
    "sql_create_civicArt_table = \"\"\"\"\"\" + sql_string +\"\"\"\"\"\"\n",
    "\n",
    "try:\n",
    "    c = conn.cursor()\n",
    "    c.execute(sql_create_civicArt_table)\n",
    "except Error as e:\n",
    "   print(f\"Table Creation request failed with following error: \\n{e}\")\n",
    "conn.commit()"
   ]
  },
  {
   "cell_type": "markdown",
   "id": "76a60514",
   "metadata": {},
   "source": [
    "### import the data into the table"
   ]
  },
  {
   "cell_type": "code",
   "execution_count": null,
   "id": "cb6685d2",
   "metadata": {},
   "outputs": [],
   "source": [
    "# sql doesn't really like spaces in the column names, which we fixed up in the preceding section. \n",
    "# let's fix them in the pandas dataframe\n",
    "newHeaders = list(art_df.columns)\n",
    "\n",
    "for idx, each in enumerate(newHeaders):\n",
    "    newHeaders[idx] = \"_\".join(newHeaders[idx].split())\n",
    "    \n",
    "art_df.columns = newHeaders\n",
    "art_df.to_sql(table_name, conn, if_exists='replace', index = False)"
   ]
  },
  {
   "cell_type": "markdown",
   "id": "688a750c",
   "metadata": {},
   "source": [
    "### OK, let's start using ibis to work with this data\n",
    "#### Connecting to the database"
   ]
  },
  {
   "cell_type": "code",
   "execution_count": null,
   "id": "ef0920d2",
   "metadata": {},
   "outputs": [],
   "source": [
    "import ibis\n",
    "ibis.options.interactive = True\n",
    "db = ibis.sqlite.connect(\"civicArt.db\")"
   ]
  },
  {
   "cell_type": "markdown",
   "id": "f18035f4",
   "metadata": {},
   "source": [
    "#### list the tables"
   ]
  },
  {
   "cell_type": "code",
   "execution_count": null,
   "id": "7fb7fdac",
   "metadata": {},
   "outputs": [],
   "source": [
    "sql_tables = db.list_tables()\n",
    "print(sql_tables)"
   ]
  },
  {
   "cell_type": "markdown",
   "id": "a731fa84",
   "metadata": {},
   "source": [
    "#### list the columns in the table"
   ]
  },
  {
   "cell_type": "code",
   "execution_count": null,
   "id": "ce6a4f1c",
   "metadata": {},
   "outputs": [],
   "source": [
    "# since the results of the preceding command is a list and we may get more than one table in the list\n",
    "# print each table name and the columns for that table\n",
    "for each in sql_tables:\n",
    "    print(f\"columns in {each}\")\n",
    "    print(f\"{db.table(each).columns}\")"
   ]
  },
  {
   "cell_type": "markdown",
   "id": "775b800e",
   "metadata": {},
   "source": [
    "## Querying \n",
    "\n",
    "Anything you can write in a SELECT statement you can write in Ibis. Let's test this out!\n",
    "I’ll use the following code to find out which artists have art currently displayed in the city and what the title of their pieces are. \n",
    "\n",
    "### Selecting columns from a table "
   ]
  },
  {
   "cell_type": "code",
   "execution_count": null,
   "id": "0f45d13d",
   "metadata": {},
   "outputs": [],
   "source": [
    "art = db.table(sql_tables[0])\n",
    "sql_results = art[\"artist\", \"display_title\"]\n",
    "sql_results"
   ]
  },
  {
   "cell_type": "markdown",
   "id": "ff1ed009",
   "metadata": {},
   "source": [
    "### Filtering Data\n",
    "\n",
    "Next let's pick an artist and figure out where exactly all their art is located. Adriane Colburns’ display title, `Geological Ghost` caught my eye so let's choose them! \n",
    "\n",
    "I use the following commands to do this"
   ]
  },
  {
   "cell_type": "code",
   "execution_count": null,
   "id": "022e94ae",
   "metadata": {},
   "outputs": [],
   "source": [
    "adrianes_art = art.filter(art[\"artist\"] == 'Colburn, Adriane')\n",
    "adrianes_art[\"display_title\", \"street_address_or_intersection\"]\n"
   ]
  },
  {
   "cell_type": "markdown",
   "id": "0960f972",
   "metadata": {},
   "source": [
    "So it turns out Adriane has two pieces on display, one at `4 Guy Place` and the other at `Dagget Street & 16th Street`. This is great, we already have some places we can add to our tourist itinerary!  \n",
    "\n",
    "### Groupby\n",
    "\n",
    "I don’t usually stay more than one or two days in a city after a conference, so it might be nice to know which locations have the most art on display. To figure this out we’ll use the following `groupby` expressions to get the information we need. \n",
    "We use `groupy` and `sort_by` to get the 10 locations in San Francisco with the most art! "
   ]
  },
  {
   "cell_type": "code",
   "execution_count": null,
   "id": "a90b8466",
   "metadata": {},
   "outputs": [],
   "source": [
    "art_loc = art.groupby(\"street_address_or_intersection\").count('display_title')\n",
    "most_art=art_loc.sort_by('display_title')\n",
    "most_art[268:278]\n"
   ]
  },
  {
   "cell_type": "markdown",
   "id": "ec568f52",
   "metadata": {},
   "source": [
    "### Great, the first stop would be 1001 Potrero Avenue that has 59 titles on display!! "
   ]
  },
  {
   "cell_type": "code",
   "execution_count": null,
   "id": "aaa06f1a",
   "metadata": {},
   "outputs": [],
   "source": []
  }
 ],
 "metadata": {
  "kernelspec": {
   "display_name": "Python 3 (ipykernel)",
   "language": "python",
   "name": "python3"
  },
  "language_info": {
   "codemirror_mode": {
    "name": "ipython",
    "version": 3
   },
   "file_extension": ".py",
   "mimetype": "text/x-python",
   "name": "python",
   "nbconvert_exporter": "python",
   "pygments_lexer": "ipython3",
   "version": "3.9.7"
  }
 },
 "nbformat": 4,
 "nbformat_minor": 5
}
