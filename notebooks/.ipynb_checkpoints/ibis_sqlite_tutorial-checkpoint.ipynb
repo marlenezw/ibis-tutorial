{
 "cells": [
  {
   "cell_type": "markdown",
   "id": "80aa4f49",
   "metadata": {},
   "source": [
    "For Python programmers Ibis offers a way to write SQL in Python that allows for unit-testing, composability, and abstraction over specific query engines (e.g.BigQuery)! You can carry out joins, filters and other operations on your data in a familiar, Pandas-like syntax. Overall, using Ibis simplifies your workflows, makes you more productive, and keeps your code readable."
   ]
  },
  {
   "cell_type": "markdown",
   "id": "688facff",
   "metadata": {},
   "source": [
    "Let's start by getting ibis and sqlite installed on your system. In the next several cells, you will notice that the first character is an exclamation point: ***!*** This tells Jupyter that we're running a shell (terminal) command instead of python code in the notebook"
   ]
  },
  {
   "cell_type": "markdown",
   "id": "83c1620c",
   "metadata": {},
   "source": [
    "## Install SQLite"
   ]
  },
  {
   "cell_type": "code",
   "execution_count": null,
   "id": "3dca8b0f",
   "metadata": {},
   "outputs": [],
   "source": [
    "conda install -c anaconda sqlite "
   ]
  },
  {
   "cell_type": "markdown",
   "id": "891399d2",
   "metadata": {},
   "source": [
    "## Install ibis"
   ]
  },
  {
   "cell_type": "code",
   "execution_count": null,
   "id": "07878a0c",
   "metadata": {},
   "outputs": [],
   "source": [
    "! conda install -c conda-forge ibis-framework     "
   ]
  },
  {
   "cell_type": "markdown",
   "id": "599ba27d",
   "metadata": {},
   "source": [
    "## Get the data\n",
    "We're using the `Civic Art Collection` database, which can be downloaded here: https://data.sfgov.org/Culture-and-Recreation/Civic-Art-Collection/r7bn-7v9c using the `Export` service in the top right corner. Please select `CSV` for your export format. When you've completed the download, store the downloaded file in the `data` directory in this folder.\n",
    "\n",
    "When you're done, you should see the following information when you list this folder:\n",
    ">`data                       ibis_sqlite_tutorial.ipynb`\n",
    "\n",
    "and when you list the Data folder you should see: \n",
    ">`Civic_Art_Collection.csv`\n",
    "<br>"
   ]
  },
  {
   "cell_type": "markdown",
   "id": "dccbb067",
   "metadata": {},
   "source": [
    "## Create the SQLite database"
   ]
  },
  {
   "cell_type": "markdown",
   "id": "51e4e028",
   "metadata": {},
   "source": [
    "### let's first create variables for all of the things we're about to go do"
   ]
  },
  {
   "cell_type": "code",
   "execution_count": null,
   "id": "569dea08",
   "metadata": {},
   "outputs": [],
   "source": [
    "import os\n",
    "path=\"data\" #where did we store the data\n",
    "file=\"Civic_Art_Collection.csv\" #what's the name of the file we're importing\n",
    "collection_name=\"civicArt.db\" # what are we going to call the database\n",
    "table_name=\"civicArtTable\" # what are we going to call the table into which we are importing the file\n",
    "path_separator=os.path.sep # get the path separator (forward or backward slash) for this operating system\n",
    "conn=None # place holder for the db connection"
   ]
  },
  {
   "cell_type": "markdown",
   "id": "269a1e3a",
   "metadata": {},
   "source": [
    "### Create the SQL Collection (database)\n",
    "SQLite wants a file with the name of the collection as the db. so we'll use the shell `touch` command to create it. "
   ]
  },
  {
   "cell_type": "code",
   "execution_count": null,
   "id": "a77723a8",
   "metadata": {},
   "outputs": [],
   "source": [
    "!touch \"{collection_name}\""
   ]
  },
  {
   "cell_type": "markdown",
   "id": "70e81bc4",
   "metadata": {},
   "source": [
    "### Create the table schema\n",
    "We will use pandas to help use create the schema and, later on, load the data into SQLite"
   ]
  },
  {
   "cell_type": "code",
   "execution_count": null,
   "id": "9ec99698",
   "metadata": {},
   "outputs": [],
   "source": [
    "import pandas as pd\n",
    "type_dic = {\"object\": \"String\", \"float64\": \"Float64\", \"int64\": \"Int64\"}\n",
    "art_df = pd.read_csv(path+path_separator+file)\n",
    "col_types = list(art_df.dtypes)\n",
    "col_names = list(art_df.columns)\n",
    "for idx, each in enumerate(col_names):\n",
    "    col_names[idx] = \"_\".join(col_names[idx].split())\n",
    "    col_types[idx] = type_dic[col_types[idx].__str__()]"
   ]
  },
  {
   "cell_type": "markdown",
   "id": "28d06ccf",
   "metadata": {},
   "source": [
    "### Create the table\n",
    "This defines where the data will go and it's 'shape' - that is, the characteristics of each column of data"
   ]
  },
  {
   "cell_type": "code",
   "execution_count": null,
   "id": "2ee583e2",
   "metadata": {},
   "outputs": [],
   "source": [
    "import ibis\n",
    "ibis.options.interactive = True\n",
    "db = ibis.sqlite.connect(collection_name)\n",
    "schema = ibis.Schema(names=col_names, types=col_types)\n",
    "db.create_table(table_name, schema=schema)"
   ]
  },
  {
   "cell_type": "markdown",
   "id": "76a60514",
   "metadata": {},
   "source": [
    "### import the data into the table"
   ]
  },
  {
   "cell_type": "code",
   "execution_count": null,
   "id": "cb6685d2",
   "metadata": {},
   "outputs": [],
   "source": [
    "db.load_data(table_name, art_df, if_exists='replace')"
   ]
  },
  {
   "cell_type": "markdown",
   "id": "55e41592",
   "metadata": {},
   "source": [
    "#### list the tables"
   ]
  },
  {
   "cell_type": "code",
   "execution_count": null,
   "id": "eb099eb2",
   "metadata": {},
   "outputs": [],
   "source": [
    "sql_tables = db.list_tables()\n",
    "print(sql_tables)"
   ]
  },
  {
   "cell_type": "markdown",
   "id": "0b1c3cc0",
   "metadata": {},
   "source": [
    "#### list the columns in the table"
   ]
  },
  {
   "cell_type": "code",
   "execution_count": null,
   "id": "032ca0a1",
   "metadata": {},
   "outputs": [],
   "source": [
    "# since the results of the preceding command is a list and we may get more than one table in the list\n",
    "# print each table name and the columns for that table\n",
    "for each in sql_tables:\n",
    "    print(f\"columns in {each}\")\n",
    "    print(f\"{db.table(each).columns}\")"
   ]
  },
  {
   "cell_type": "markdown",
   "id": "b8c287f9",
   "metadata": {},
   "source": [
    "## Querying \n",
    "\n",
    "Anything you can write in a SELECT statement you can write in Ibis. Let's test this out!\n",
    "I’ll use the following code to find out which artists have art currently displayed in the city and what the title of their pieces are. \n",
    "\n",
    "### Selecting columns from a table "
   ]
  },
  {
   "cell_type": "code",
   "execution_count": null,
   "id": "774ae64b",
   "metadata": {},
   "outputs": [],
   "source": [
    "art = db.table(sql_tables[0])\n",
    "sql_results = art[\"artist\", \"display_title\"]\n",
    "print(sql_results)"
   ]
  },
  {
   "cell_type": "markdown",
   "id": "fc7d6fd9",
   "metadata": {},
   "source": [
    "### Filtering Data\n",
    "\n",
    "Next let's pick an artist and figure out where exactly all their art is located. Adriane Colburns’ display title, `Geological Ghost` caught my eye so let's choose them! \n",
    "\n",
    "I use the following commands to do this"
   ]
  },
  {
   "cell_type": "code",
   "execution_count": null,
   "id": "54f79c92",
   "metadata": {},
   "outputs": [],
   "source": [
    "adrianes_art = art.filter(art[\"artist\"] == 'Colburn, Adriane')\n",
    "# adrianes_art[\"display_title\", \"street_address_or_intersection\"]\n"
   ]
  },
  {
   "cell_type": "code",
   "execution_count": null,
   "id": "43e62914",
   "metadata": {},
   "outputs": [],
   "source": [
    "adrianes_art"
   ]
  },
  {
   "cell_type": "markdown",
   "id": "471b8670",
   "metadata": {},
   "source": [
    "So it turns out Adriane has two pieces on display, one at `4 Guy Place` and the other at `Dagget Street & 16th Street`. This is great, we already have some places we can add to our tourist itinerary!  \n",
    "\n",
    "### Groupby\n",
    "\n",
    "I don’t usually stay more than one or two days in a city after a conference, so it might be nice to know which locations have the most art on display. To figure this out we’ll use the following `groupby` expressions to get the information we need. \n",
    "We use `groupy` and `sort_by` to get the 10 locations in San Francisco with the most art! "
   ]
  },
  {
   "cell_type": "code",
   "execution_count": null,
   "id": "3d09cd86",
   "metadata": {},
   "outputs": [],
   "source": [
    "art_loc = art.groupby(\"street_address_or_intersection\").count('display_title')\n",
    "most_art=art_loc.sort_by('display_title')\n",
    "most_art[268:278]\n"
   ]
  },
  {
   "cell_type": "markdown",
   "id": "f50085a9",
   "metadata": {},
   "source": [
    "#### Great, the first stop would be 1001 Potrero Avenue that has 59 titles on display!! "
   ]
  },
  {
   "cell_type": "code",
   "execution_count": null,
   "id": "0a54c778",
   "metadata": {},
   "outputs": [],
   "source": []
  }
 ],
 "metadata": {
  "kernelspec": {
   "display_name": "Python 3 (ipykernel)",
   "language": "python",
   "name": "python3"
  },
  "language_info": {
   "codemirror_mode": {
    "name": "ipython",
    "version": 3
   },
   "file_extension": ".py",
   "mimetype": "text/x-python",
   "name": "python",
   "nbconvert_exporter": "python",
   "pygments_lexer": "ipython3",
   "version": "3.9.7"
  }
 },
 "nbformat": 4,
 "nbformat_minor": 5
}
